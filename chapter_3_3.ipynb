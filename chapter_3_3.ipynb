{
  "nbformat": 4,
  "nbformat_minor": 0,
  "metadata": {
    "colab": {
      "name": "chapter_3-3.ipynb",
      "provenance": [],
      "collapsed_sections": [],
      "mount_file_id": "1JyjVuxcXtHDDJ4cSJZ2Dv15HdTqQeUZz",
      "authorship_tag": "ABX9TyMSYZIZsTKGf62yTEsxru4f",
      "include_colab_link": true
    },
    "kernelspec": {
      "name": "python3",
      "display_name": "Python 3"
    },
    "language_info": {
      "name": "python"
    }
  },
  "cells": [
    {
      "cell_type": "markdown",
      "metadata": {
        "id": "view-in-github",
        "colab_type": "text"
      },
      "source": [
        "<a href=\"https://colab.research.google.com/github/yjyjy131/Deep-learning-from-scratch/blob/main/chapter_3_3.ipynb\" target=\"_parent\"><img src=\"https://colab.research.google.com/assets/colab-badge.svg\" alt=\"Open In Colab\"/></a>"
      ]
    },
    {
      "cell_type": "markdown",
      "source": [
        "#### 손글씨 숫자 인식"
      ],
      "metadata": {
        "id": "lgkhBAHUiboP"
      }
    },
    {
      "cell_type": "code",
      "source": [
        "from keras.datasets import mnist"
      ],
      "metadata": {
        "id": "sKDd3OWVj2OY"
      },
      "execution_count": 1,
      "outputs": []
    },
    {
      "cell_type": "code",
      "source": [
        "from matplotlib.pyplot import imshow"
      ],
      "metadata": {
        "id": "DZtS8BVgi3Y3"
      },
      "execution_count": 5,
      "outputs": []
    },
    {
      "cell_type": "code",
      "source": [
        "import numpy as np"
      ],
      "metadata": {
        "id": "espaK2vZi_-k"
      },
      "execution_count": 4,
      "outputs": []
    },
    {
      "cell_type": "code",
      "source": [
        "import pickle"
      ],
      "metadata": {
        "id": "rv993QOJJgtZ"
      },
      "execution_count": 39,
      "outputs": []
    },
    {
      "cell_type": "markdown",
      "source": [
        "#### 데이터  확인"
      ],
      "metadata": {
        "id": "ne8oEhm7MzWF"
      }
    },
    {
      "cell_type": "code",
      "source": [
        "(train_X, train_y), (test_X, test_y) = mnist.load_data()"
      ],
      "metadata": {
        "id": "EcPw5xSqj2Qg"
      },
      "execution_count": 24,
      "outputs": []
    },
    {
      "cell_type": "code",
      "source": [
        "train_X.shape[0]"
      ],
      "metadata": {
        "colab": {
          "base_uri": "https://localhost:8080/"
        },
        "id": "qxVqsiHqH_Fb",
        "outputId": "0154d879-cb0e-4c86-f80d-122847aeda93"
      },
      "execution_count": 13,
      "outputs": [
        {
          "output_type": "execute_result",
          "data": {
            "text/plain": [
              "60000"
            ]
          },
          "metadata": {},
          "execution_count": 13
        }
      ]
    },
    {
      "cell_type": "code",
      "source": [
        "# 책과 같은 차원으로 reshape\n",
        "train_X = train_X.reshape(60000, 784)\n",
        "test_X = test_X.reshape(10000, 784)"
      ],
      "metadata": {
        "id": "g8uGLZhVk9DO"
      },
      "execution_count": 8,
      "outputs": []
    },
    {
      "cell_type": "code",
      "source": [
        "imshow(train_X[0].reshape(28, 28))"
      ],
      "metadata": {
        "colab": {
          "base_uri": "https://localhost:8080/",
          "height": 283
        },
        "id": "KjxED8KQlAGA",
        "outputId": "caa112df-075b-48fd-b637-39f3f51dce02"
      },
      "execution_count": 9,
      "outputs": [
        {
          "output_type": "execute_result",
          "data": {
            "text/plain": [
              "<matplotlib.image.AxesImage at 0x7f7fbd72e690>"
            ]
          },
          "metadata": {},
          "execution_count": 9
        },
        {
          "output_type": "display_data",
          "data": {
            "image/png": "[encoded data removed]",
            "text/plain": [
              "<Figure size 432x288 with 1 Axes>"
            ]
          },
          "metadata": {
            "needs_background": "light"
          }
        }
      ]
    },
    {
      "cell_type": "code",
      "source": [
        ""
      ],
      "metadata": {
        "id": "Z52v2HP6HakY"
      },
      "execution_count": null,
      "outputs": []
    },
    {
      "cell_type": "code",
      "source": [
        ""
      ],
      "metadata": {
        "id": "j-oLfTI6Mx3V"
      },
      "execution_count": null,
      "outputs": []
    },
    {
      "cell_type": "markdown",
      "source": [
        "#### 네트워크 학습 및 테스트"
      ],
      "metadata": {
        "id": "sZzu0FNVM1U_"
      }
    },
    {
      "cell_type": "code",
      "source": [
        "# mnist 데이터를 입력층에 맞는 사이즈로 변환하여 리턴\n",
        "def get_flatten_data():\n",
        "  (train_x, train_y), (test_x, test_y) = mnist.load_data()\n",
        "\n",
        "  train_resize = (train_x.shape[0], train_x.shape[1] * train_x.shape[1])\n",
        "  test_resize = (test_x.shape[0], test_x.shape[1] * test_x.shape[1])\n",
        "\n",
        "  train_x = train_x.reshape(train_resize[0], train_resize[1])\n",
        "  test_x = test_x.reshape(test_resize[0], test_resize[1])\n",
        "  return train_x, train_y, test_x, test_y"
      ],
      "metadata": {
        "id": "CpRHRXrLHam4"
      },
      "execution_count": 32,
      "outputs": []
    },
    {
      "cell_type": "code",
      "source": [
        "# 네트워크 가중치 리턴\n",
        "def init_network():\n",
        "  with open(\"sample_weight.pkl\", \"rb\") as f :\n",
        "    network = pickle.load(f)\n",
        "  \n",
        "  return network"
      ],
      "metadata": {
        "id": "gdW4aDkvI3B5"
      },
      "execution_count": 37,
      "outputs": []
    },
    {
      "cell_type": "code",
      "source": [
        "# 시그모이드 활성화 함수\n",
        "def sigmoid(x) :\n",
        "  y = 1 / ( 1 + np.exp(-x) )\n",
        "  return y "
      ],
      "metadata": {
        "id": "ibZhvDIrKRJf"
      },
      "execution_count": 61,
      "outputs": []
    },
    {
      "cell_type": "code",
      "source": [
        "# 결과 예측\n",
        "def predict(network, x) :\n",
        "  w1, w2, w3 = network['W1'], network['W2'], network['W3']\n",
        "  b1, b2, b3 = network['b1'], network['b2'], network['b3']\n",
        "\n",
        "  a1 = np.dot(x, w1) + b1\n",
        "  z1 = sigmoid(a1)\n",
        "  a2 = np.dot(z1, w2) + b2\n",
        "  z2 = sigmoid(a2)\n",
        "  a3 = np.dot(z2, w3) + b3\n",
        "  y = sigmoid(a3)\n",
        "\n",
        "  return y"
      ],
      "metadata": {
        "id": "nSvn7e__JO89"
      },
      "execution_count": 62,
      "outputs": []
    },
    {
      "cell_type": "code",
      "source": [
        ""
      ],
      "metadata": {
        "id": "FcFTuU_6NYCE"
      },
      "execution_count": null,
      "outputs": []
    },
    {
      "cell_type": "code",
      "source": [
        ""
      ],
      "metadata": {
        "id": "WiU0lXVVNcIm"
      },
      "execution_count": null,
      "outputs": []
    },
    {
      "cell_type": "markdown",
      "source": [
        "#### 배치 없는 predict"
      ],
      "metadata": {
        "id": "-6VxG480OvM7"
      }
    },
    {
      "cell_type": "code",
      "source": [
        "# test\n",
        "train_x, train_y, test_x, test_y = get_flatten_data()\n",
        "network = init_network()\n",
        "\n",
        "acc_cnt = 0\n",
        "\n",
        "for i in range(len(test_x)) :\n",
        "  y = predict(network, test_x[i])\n",
        "\n",
        "  # 결과값 y 들 중에서, 가장 확률이 높은 원소의 인덱스 가져옴\n",
        "  p = np.argmax(y)\n",
        "  if p == test_y[i] :\n",
        "    acc_cnt += 1\n",
        "  \n",
        "  if i % 500 == 0 :\n",
        "    print(f'Progress {i}/{len(test_x)}... Acc : {acc_cnt/len(test_x)}')\n",
        "\n",
        "print(f'Acc : {acc_cnt/len(test_x)}')"
      ],
      "metadata": {
        "id": "pNe5VMiIlAID",
        "colab": {
          "base_uri": "https://localhost:8080/"
        },
        "outputId": "f583bcfb-053d-43df-f21b-80c5176048de"
      },
      "execution_count": 82,
      "outputs": [
        {
          "output_type": "stream",
          "name": "stderr",
          "text": [
            "/usr/local/lib/python3.7/dist-packages/ipykernel_launcher.py:3: RuntimeWarning: overflow encountered in exp\n",
            "  This is separate from the ipykernel package so we can avoid doing imports until\n"
          ]
        },
        {
          "output_type": "stream",
          "name": "stdout",
          "text": [
            "Progress 0/10000... Acc : 0.0001\n",
            "Progress 500/10000... Acc : 0.0456\n",
            "Progress 1000/10000... Acc : 0.0909\n",
            "Progress 1500/10000... Acc : 0.1344\n",
            "Progress 2000/10000... Acc : 0.1788\n",
            "Progress 2500/10000... Acc : 0.2242\n",
            "Progress 3000/10000... Acc : 0.2694\n",
            "Progress 3500/10000... Acc : 0.3154\n",
            "Progress 4000/10000... Acc : 0.3597\n",
            "Progress 4500/10000... Acc : 0.4049\n",
            "Progress 5000/10000... Acc : 0.4501\n",
            "Progress 5500/10000... Acc : 0.4977\n",
            "Progress 6000/10000... Acc : 0.5434\n",
            "Progress 6500/10000... Acc : 0.5905\n",
            "Progress 7000/10000... Acc : 0.6367\n",
            "Progress 7500/10000... Acc : 0.6846\n",
            "Progress 8000/10000... Acc : 0.731\n",
            "Progress 8500/10000... Acc : 0.7791\n",
            "Progress 9000/10000... Acc : 0.8284\n",
            "Progress 9500/10000... Acc : 0.8762\n",
            "Acc : 0.9207\n"
          ]
        }
      ]
    },
    {
      "cell_type": "code",
      "source": [
        ""
      ],
      "metadata": {
        "id": "7ks7TO3MO1it"
      },
      "execution_count": null,
      "outputs": []
    },
    {
      "cell_type": "markdown",
      "source": [
        "#### 배치를 사용한 predict"
      ],
      "metadata": {
        "id": "8FNgkD9_OzWQ"
      }
    },
    {
      "cell_type": "code",
      "source": [
        "train_x, train_y, test_x, test_y = get_flatten_data()\n",
        "network = init_network()\n",
        "\n",
        "acc_cnt = 0\n",
        "batch_size = 100\n",
        "\n",
        "for i in range(0, len(test_x), batch_size) :\n",
        "  x_batch = test_x[i:i+batch_size]\n",
        "  y_batch = predict(network, x_batch)\n",
        "\n",
        "  p = np.argmax(y_batch, axis=1)\n",
        "  acc_cnt += np.sum(p == test_y[i:i+batch_size])\n",
        "\n",
        "  if i % 500 == 0 :\n",
        "    print(f'Progress {i}/{len(test_x)}... Acc : {acc_cnt/len(test_x)}')\n",
        "\n",
        "print(f'Acc : {acc_cnt/len(test_x)}')"
      ],
      "metadata": {
        "colab": {
          "base_uri": "https://localhost:8080/"
        },
        "id": "dJXjWSFtOytH",
        "outputId": "dcdeda4d-ec46-49b5-ee37-0f823db7e5c3"
      },
      "execution_count": 84,
      "outputs": [
        {
          "output_type": "stream",
          "name": "stdout",
          "text": [
            "Progress 0/10000... Acc : 0.0096\n",
            "Progress 500/10000... Acc : 0.0543\n",
            "Progress 1000/10000... Acc : 0.0997\n",
            "Progress 1500/10000... Acc : 0.1434\n",
            "Progress 2000/10000... Acc : 0.1877\n",
            "Progress 2500/10000... Acc : 0.2333\n",
            "Progress 3000/10000... Acc : 0.2786\n",
            "Progress 3500/10000... Acc : 0.3242\n",
            "Progress 4000/10000... Acc : 0.3687\n",
            "Progress 4500/10000... Acc : 0.414\n",
            "Progress 5000/10000... Acc : 0.4589\n",
            "Progress 5500/10000... Acc : 0.5072\n",
            "Progress 6000/10000... Acc : 0.5521\n",
            "Progress 6500/10000... Acc : 0.5989\n",
            "Progress 7000/10000... Acc : 0.6464\n",
            "Progress 7500/10000... Acc : 0.6942\n",
            "Progress 8000/10000... Acc : 0.74\n",
            "Progress 8500/10000... Acc : 0.7885\n",
            "Progress 9000/10000... Acc : 0.837\n",
            "Progress 9500/10000... Acc : 0.8855\n",
            "Acc : 0.9207\n"
          ]
        },
        {
          "output_type": "stream",
          "name": "stderr",
          "text": [
            "/usr/local/lib/python3.7/dist-packages/ipykernel_launcher.py:3: RuntimeWarning: overflow encountered in exp\n",
            "  This is separate from the ipykernel package so we can avoid doing imports until\n"
          ]
        }
      ]
    },
    {
      "cell_type": "code",
      "source": [
        ""
      ],
      "metadata": {
        "id": "IbPMCt6dO4Ll"
      },
      "execution_count": null,
      "outputs": []
    }
  ]
}