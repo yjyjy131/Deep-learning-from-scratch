{
  "nbformat": 4,
  "nbformat_minor": 0,
  "metadata": {
    "colab": {
      "name": "chapter_3-1.ipynb",
      "provenance": [],
      "collapsed_sections": [],
      "authorship_tag": "ABX9TyOhNa920FLG0xy7Injxr4x+",
      "include_colab_link": true
    },
    "kernelspec": {
      "name": "python3",
      "display_name": "Python 3"
    },
    "language_info": {
      "name": "python"
    }
  },
  "cells": [
    {
      "cell_type": "markdown",
      "metadata": {
        "id": "view-in-github",
        "colab_type": "text"
      },
      "source": [
        "<a href=\"https://colab.research.google.com/github/yjyjy131/Deep-learning-from-scratch/blob/main/chapter_3_1.ipynb\" target=\"_parent\"><img src=\"https://colab.research.google.com/assets/colab-badge.svg\" alt=\"Open In Colab\"/></a>"
      ]
    },
    {
      "cell_type": "markdown",
      "source": [
        "## 활성화 함수 구현"
      ],
      "metadata": {
        "id": "A8YQckfvyUax"
      }
    },
    {
      "cell_type": "markdown",
      "source": [
        "#### 계단 함수"
      ],
      "metadata": {
        "id": "wqZXWdz1qg7U"
      }
    },
    {
      "cell_type": "code",
      "source": [
        "import numpy as np"
      ],
      "metadata": {
        "id": "CNOIHH4tpckL"
      },
      "execution_count": 2,
      "outputs": []
    },
    {
      "cell_type": "code",
      "source": [
        "import matplotlib.pylab as plt"
      ],
      "metadata": {
        "id": "eRmt9vMUp0sz"
      },
      "execution_count": 6,
      "outputs": []
    },
    {
      "cell_type": "code",
      "execution_count": 7,
      "metadata": {
        "id": "wELhpWKkwWOt"
      },
      "outputs": [],
      "source": [
        "def step_func(x) :\n",
        "  y = x > 0 \n",
        "  # np bool to int\n",
        "  return y.astype(np.int)"
      ]
    },
    {
      "cell_type": "code",
      "source": [
        "x = np.array([-1, 1, 2])\n",
        "step_func(x)"
      ],
      "metadata": {
        "colab": {
          "base_uri": "https://localhost:8080/"
        },
        "id": "ud0MCq9mpcNF",
        "outputId": "e1ad6288-345b-46ed-897e-5ce2972b6188"
      },
      "execution_count": 8,
      "outputs": [
        {
          "output_type": "execute_result",
          "data": {
            "text/plain": [
              "array([0, 1, 1])"
            ]
          },
          "metadata": {},
          "execution_count": 8
        }
      ]
    },
    {
      "cell_type": "code",
      "source": [
        ""
      ],
      "metadata": {
        "id": "C31slK53zouI"
      },
      "execution_count": null,
      "outputs": []
    },
    {
      "cell_type": "code",
      "source": [
        "x = np.arange(-0.5, 0.5, 0.1)\n",
        "y = step_func(x)"
      ],
      "metadata": {
        "id": "aFce1uqPp0QD"
      },
      "execution_count": 11,
      "outputs": []
    },
    {
      "cell_type": "code",
      "source": [
        "plt.plot(x, y)\n",
        "plt.ylim(-0.1, 1.1)"
      ],
      "metadata": {
        "colab": {
          "base_uri": "https://localhost:8080/",
          "height": 283
        },
        "id": "6SZYEFd6qCDG",
        "outputId": "f5178505-6279-4e74-c5e0-8a75f8225139"
      },
      "execution_count": 17,
      "outputs": [
        {
          "output_type": "execute_result",
          "data": {
            "text/plain": [
              "(-0.1, 1.1)"
            ]
          },
          "metadata": {},
          "execution_count": 17
        },
        {
          "output_type": "display_data",
          "data": {
            "image/png": "[encoded data removed]",
            "text/plain": [
              "<Figure size 432x288 with 1 Axes>"
            ]
          },
          "metadata": {
            "needs_background": "light"
          }
        }
      ]
    },
    {
      "cell_type": "code",
      "source": [
        ""
      ],
      "metadata": {
        "id": "sJ3io-VGqnSk"
      },
      "execution_count": null,
      "outputs": []
    },
    {
      "cell_type": "markdown",
      "source": [
        "#### 시그모이드 함수"
      ],
      "metadata": {
        "id": "UsPN65sMqjn7"
      }
    },
    {
      "cell_type": "code",
      "source": [
        "def sigmoid(x) :\n",
        "  return 1 / ( 1 + np.exp(-x) )"
      ],
      "metadata": {
        "id": "Bx--S-Ftqlgp"
      },
      "execution_count": 18,
      "outputs": []
    },
    {
      "cell_type": "code",
      "source": [
        "x = np.array([-1, 1, 2])\n",
        "sigmoid(x)"
      ],
      "metadata": {
        "colab": {
          "base_uri": "https://localhost:8080/"
        },
        "id": "RRyEQyMtqyC5",
        "outputId": "54b1553d-013d-4e3d-d94c-a89b25f7876a"
      },
      "execution_count": 19,
      "outputs": [
        {
          "output_type": "execute_result",
          "data": {
            "text/plain": [
              "array([0.26894142, 0.73105858, 0.88079708])"
            ]
          },
          "metadata": {},
          "execution_count": 19
        }
      ]
    },
    {
      "cell_type": "code",
      "source": [
        ""
      ],
      "metadata": {
        "id": "O9FERa_3q2iN"
      },
      "execution_count": null,
      "outputs": []
    },
    {
      "cell_type": "code",
      "source": [
        "x = np.arange(-5, 5, 0.1)\n",
        "y = sigmoid(x)\n",
        "plt.plot(x, y)\n",
        "plt.ylim(-0.2, 1.2)"
      ],
      "metadata": {
        "colab": {
          "base_uri": "https://localhost:8080/",
          "height": 287
        },
        "id": "7j5NPh5jq3LX",
        "outputId": "d434ad9e-99a7-4fce-ab69-ad4d2becd898"
      },
      "execution_count": 21,
      "outputs": [
        {
          "output_type": "execute_result",
          "data": {
            "text/plain": [
              "(-0.2, 1.2)"
            ]
          },
          "metadata": {},
          "execution_count": 21
        },
        {
          "output_type": "display_data",
          "data": {
            "image/png": "[encoded data removed]",
            "text/plain": [
              "<Figure size 432x288 with 1 Axes>"
            ]
          },
          "metadata": {
            "needs_background": "light"
          }
        }
      ]
    },
    {
      "cell_type": "code",
      "source": [
        ""
      ],
      "metadata": {
        "id": "AkVakPgjrJmH"
      },
      "execution_count": null,
      "outputs": []
    },
    {
      "cell_type": "code",
      "source": [
        ""
      ],
      "metadata": {
        "id": "7zArVdM9rF9B"
      },
      "execution_count": null,
      "outputs": []
    },
    {
      "cell_type": "markdown",
      "source": [
        "#### ReLU 함수"
      ],
      "metadata": {
        "id": "rC4nelN8s3QI"
      }
    },
    {
      "cell_type": "code",
      "source": [
        "def relu(x) :\n",
        "  return np.maximum(0, x)"
      ],
      "metadata": {
        "id": "FYuq8aCUs7SF"
      },
      "execution_count": 22,
      "outputs": []
    },
    {
      "cell_type": "code",
      "source": [
        ""
      ],
      "metadata": {
        "id": "noJ00EDNs7qB"
      },
      "execution_count": null,
      "outputs": []
    },
    {
      "cell_type": "markdown",
      "source": [
        "#### 가중치만을 가지는 신경망"
      ],
      "metadata": {
        "id": "GoZvpgBvu1Ua"
      }
    },
    {
      "cell_type": "code",
      "source": [
        "w = np.array([[1, 3, 5], [2, 4, 6]])\n",
        "w.shape"
      ],
      "metadata": {
        "colab": {
          "base_uri": "https://localhost:8080/"
        },
        "id": "oq1cTofnu3qS",
        "outputId": "da22aafd-6368-4147-d1dc-72097d5255b2"
      },
      "execution_count": 26,
      "outputs": [
        {
          "output_type": "execute_result",
          "data": {
            "text/plain": [
              "(2, 3)"
            ]
          },
          "metadata": {},
          "execution_count": 26
        }
      ]
    },
    {
      "cell_type": "code",
      "source": [
        "x = np.array([1, 2])\n",
        "x.shape"
      ],
      "metadata": {
        "colab": {
          "base_uri": "https://localhost:8080/"
        },
        "id": "TeU8I8WTu9co",
        "outputId": "ebf349d5-8ec8-46db-82e6-48ca807b344e"
      },
      "execution_count": 27,
      "outputs": [
        {
          "output_type": "execute_result",
          "data": {
            "text/plain": [
              "(2,)"
            ]
          },
          "metadata": {},
          "execution_count": 27
        }
      ]
    },
    {
      "cell_type": "code",
      "source": [
        "y = np.dot(x, w)"
      ],
      "metadata": {
        "id": "H6HkUwNNvCNU"
      },
      "execution_count": 28,
      "outputs": []
    },
    {
      "cell_type": "code",
      "source": [
        "y"
      ],
      "metadata": {
        "colab": {
          "base_uri": "https://localhost:8080/"
        },
        "id": "C4dB7MZ0vGph",
        "outputId": "4cedcbc6-f24f-4d14-d55e-b9dafc831b8b"
      },
      "execution_count": 29,
      "outputs": [
        {
          "output_type": "execute_result",
          "data": {
            "text/plain": [
              "array([ 5, 11, 17])"
            ]
          },
          "metadata": {},
          "execution_count": 29
        }
      ]
    },
    {
      "cell_type": "code",
      "source": [
        ""
      ],
      "metadata": {
        "id": "R91I9lBDvIhO"
      },
      "execution_count": null,
      "outputs": []
    }
  ]
}