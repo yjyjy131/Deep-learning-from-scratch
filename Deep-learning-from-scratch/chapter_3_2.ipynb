{
  "nbformat": 4,
  "nbformat_minor": 0,
  "metadata": {
    "colab": {
      "name": "chapter_3-2.ipynb",
      "provenance": [],
      "collapsed_sections": [],
      "authorship_tag": "ABX9TyPntZCyv4qEQ4Gt+u9b5Xl9",
      "include_colab_link": true
    },
    "kernelspec": {
      "name": "python3",
      "display_name": "Python 3"
    },
    "language_info": {
      "name": "python"
    }
  },
  "cells": [
    {
      "cell_type": "markdown",
      "metadata": {
        "id": "view-in-github",
        "colab_type": "text"
      },
      "source": [
        "<a href=\"https://colab.research.google.com/github/yjyjy131/Deep-learning-from-scratch/blob/main/chapter_3_2.ipynb\" target=\"_parent\"><img src=\"https://colab.research.google.com/assets/colab-badge.svg\" alt=\"Open In Colab\"/></a>"
      ]
    },
    {
      "cell_type": "markdown",
      "source": [
        "## 신경망 구현"
      ],
      "metadata": {
        "id": "A8YQckfvyUax"
      }
    },
    {
      "cell_type": "markdown",
      "source": [
        "#### 입력층 → 1층"
      ],
      "metadata": {
        "id": "kB-Nid1wj7ZU"
      }
    },
    {
      "cell_type": "code",
      "source": [
        "import numpy as np"
      ],
      "metadata": {
        "id": "vxuJktwTikhU"
      },
      "execution_count": 1,
      "outputs": []
    },
    {
      "cell_type": "code",
      "source": [
        "x = np.array([1.2, 1.5])\n",
        "w1 = np.array([[0.1, 0.2, 0.3], [0.4, 0.5, 0.6]])\n",
        "b1 = np.array([0.1, 0.2, 0.3])"
      ],
      "metadata": {
        "id": "oZY-UiIiiknW"
      },
      "execution_count": 2,
      "outputs": []
    },
    {
      "cell_type": "code",
      "source": [
        "a1 = np.dot(x, w1) + b1"
      ],
      "metadata": {
        "id": "BuFPiquGikpa"
      },
      "execution_count": 3,
      "outputs": []
    },
    {
      "cell_type": "code",
      "source": [
        "a1"
      ],
      "metadata": {
        "colab": {
          "base_uri": "https://localhost:8080/"
        },
        "id": "QImIUvsmikrw",
        "outputId": "59a6e9d2-367f-4066-e8bc-c1f4362ddb96"
      },
      "execution_count": 4,
      "outputs": [
        {
          "output_type": "execute_result",
          "data": {
            "text/plain": [
              "array([0.82, 1.19, 1.56])"
            ]
          },
          "metadata": {},
          "execution_count": 4
        }
      ]
    },
    {
      "cell_type": "code",
      "source": [
        ""
      ],
      "metadata": {
        "id": "_4ADPMOXjy40"
      },
      "execution_count": null,
      "outputs": []
    },
    {
      "cell_type": "code",
      "source": [
        "def sigmoid(x) :\n",
        "  return 1 / ( 1 + np.exp(-x) )"
      ],
      "metadata": {
        "id": "Bx--S-Ftqlgp"
      },
      "execution_count": 5,
      "outputs": []
    },
    {
      "cell_type": "code",
      "source": [
        "z1 = sigmoid(a1)"
      ],
      "metadata": {
        "id": "uYLMOoFei92h"
      },
      "execution_count": 7,
      "outputs": []
    },
    {
      "cell_type": "code",
      "source": [
        "z1"
      ],
      "metadata": {
        "colab": {
          "base_uri": "https://localhost:8080/"
        },
        "id": "FuWCKYaej2fU",
        "outputId": "e404fad1-5f90-4173-84f9-70badcae6f99"
      },
      "execution_count": 8,
      "outputs": [
        {
          "output_type": "execute_result",
          "data": {
            "text/plain": [
              "array([0.69423634, 0.76674106, 0.82635335])"
            ]
          },
          "metadata": {},
          "execution_count": 8
        }
      ]
    },
    {
      "cell_type": "code",
      "source": [
        ""
      ],
      "metadata": {
        "id": "-BFT8c9Mi943"
      },
      "execution_count": null,
      "outputs": []
    },
    {
      "cell_type": "markdown",
      "source": [
        "#### 1층 → 2층"
      ],
      "metadata": {
        "id": "XLAVVtUDkFnm"
      }
    },
    {
      "cell_type": "code",
      "source": [
        "w2 = np.array([[0.1, 0.3], [0.2, 0.4], [0.1, -0.1]])\n",
        "b2 = np.array([0.15, 0.13])\n",
        "\n",
        "a2 = np.dot(z1, w2) + b2\n",
        "z2 = sigmoid(a2)"
      ],
      "metadata": {
        "id": "gVYftlf_i97Z"
      },
      "execution_count": 10,
      "outputs": []
    },
    {
      "cell_type": "code",
      "source": [
        "z2"
      ],
      "metadata": {
        "colab": {
          "base_uri": "https://localhost:8080/"
        },
        "id": "Ra9Fe87Di99_",
        "outputId": "b223cee6-c692-46cf-f9bc-df6377de4f1d"
      },
      "execution_count": 11,
      "outputs": [
        {
          "output_type": "execute_result",
          "data": {
            "text/plain": [
              "array([0.61192407, 0.63699195])"
            ]
          },
          "metadata": {},
          "execution_count": 11
        }
      ]
    },
    {
      "cell_type": "code",
      "source": [
        ""
      ],
      "metadata": {
        "id": "V9nOvEsDi-Ao"
      },
      "execution_count": null,
      "outputs": []
    },
    {
      "cell_type": "markdown",
      "source": [
        "#### 2층 → 출력층"
      ],
      "metadata": {
        "id": "u1-ahyBYkyMO"
      }
    },
    {
      "cell_type": "code",
      "source": [
        "def identity(x) :\n",
        "  return x"
      ],
      "metadata": {
        "id": "3A_diQRbi-Cw"
      },
      "execution_count": 12,
      "outputs": []
    },
    {
      "cell_type": "code",
      "source": [
        "w3 = np.array([[0.1, 0.2],[0.3, 0.4]])\n",
        "b3 = np.array([0.1, 0.1])\n",
        "\n",
        "a2 = np.dot(z2, w3) + b3\n",
        "y = identity(a2)"
      ],
      "metadata": {
        "id": "QHs3GZ4Qi-FK"
      },
      "execution_count": 13,
      "outputs": []
    },
    {
      "cell_type": "code",
      "source": [
        "y"
      ],
      "metadata": {
        "colab": {
          "base_uri": "https://localhost:8080/"
        },
        "id": "W3dnc3o-k6Vm",
        "outputId": "b2a94ade-0f02-44e5-befe-ee3438f26250"
      },
      "execution_count": 14,
      "outputs": [
        {
          "output_type": "execute_result",
          "data": {
            "text/plain": [
              "array([0.35228999, 0.47718159])"
            ]
          },
          "metadata": {},
          "execution_count": 14
        }
      ]
    },
    {
      "cell_type": "code",
      "source": [
        ""
      ],
      "metadata": {
        "id": "niT-oYIilR52"
      },
      "execution_count": null,
      "outputs": []
    },
    {
      "cell_type": "markdown",
      "source": [
        "#### 입력층 → 1층 → 2층 → 출력층"
      ],
      "metadata": {
        "id": "VZ28wd98lgSD"
      }
    },
    {
      "cell_type": "code",
      "source": [
        "def init_network() :\n",
        "  # 딕셔너리에 가중치, 편향 저장\n",
        "  network = {}\n",
        "\n",
        "  network['w1'] = np.array([[0.1, 0.2, 0.3], [0.4, 0.5, 0.6]])\n",
        "  network['b1'] = np.array([0.1, 0.2, 0.3])\n",
        "  network['w2'] = np.array([[0.1, 0.3], [0.2, 0.4], [0.1, -0.1]])\n",
        "  network['b2'] = np.array([0.15, 0.13])\n",
        "  network['w3'] = np.array([[0.1, 0.2],[0.3, 0.4]])\n",
        "  network['b3'] = np.array([0.1, 0.1])\n",
        "  \n",
        "  return network"
      ],
      "metadata": {
        "id": "9U21jmJalR8L"
      },
      "execution_count": 15,
      "outputs": []
    },
    {
      "cell_type": "code",
      "source": [
        ""
      ],
      "metadata": {
        "id": "8JC_Bx8yn9jv"
      },
      "execution_count": null,
      "outputs": []
    },
    {
      "cell_type": "code",
      "source": [
        "# 신경망 순서대로 닷 연산\n",
        "def forward(network, x) :\n",
        "  w1, w2, w3 = network['w1'], network['w2'], network['w3']\n",
        "  b1, b2, b3 = network['b1'], network['b2'], network['b3']\n",
        "\n",
        "  a1 = np.dot(x, w1) + b1\n",
        "  z1 = sigmoid(a1)\n",
        "\n",
        "  a2 = np.dot(z1, w2) + b2\n",
        "  z2 = sigmoid(a2)\n",
        "\n",
        "  a3 = np.dot(z2, w3) + b3\n",
        "  y = identity(a3)\n",
        "  \n",
        "  return y"
      ],
      "metadata": {
        "id": "KBV7m5Dyn9mD"
      },
      "execution_count": 17,
      "outputs": []
    },
    {
      "cell_type": "code",
      "source": [
        ""
      ],
      "metadata": {
        "id": "dGEwbWHAoa4N"
      },
      "execution_count": null,
      "outputs": []
    },
    {
      "cell_type": "code",
      "source": [
        "my_network = init_network()\n",
        "x = np.array([1, 1])\n",
        "y = forward(my_network, x)"
      ],
      "metadata": {
        "id": "XLYRfLCmobMV"
      },
      "execution_count": 18,
      "outputs": []
    },
    {
      "cell_type": "code",
      "source": [
        "y"
      ],
      "metadata": {
        "colab": {
          "base_uri": "https://localhost:8080/"
        },
        "id": "Jb5pxyB6n9oQ",
        "outputId": "eec3d5a6-86d6-4e01-fdfd-543b4acea3d8"
      },
      "execution_count": 19,
      "outputs": [
        {
          "output_type": "execute_result",
          "data": {
            "text/plain": [
              "array([0.34960407, 0.47325442])"
            ]
          },
          "metadata": {},
          "execution_count": 19
        }
      ]
    },
    {
      "cell_type": "code",
      "source": [
        ""
      ],
      "metadata": {
        "id": "EU2hp5bilR-p"
      },
      "execution_count": null,
      "outputs": []
    },
    {
      "cell_type": "code",
      "source": [
        ""
      ],
      "metadata": {
        "id": "QtS1r5Cxi-Hp"
      },
      "execution_count": null,
      "outputs": []
    },
    {
      "cell_type": "markdown",
      "source": [
        "## softmax 함수 구현"
      ],
      "metadata": {
        "id": "QJ3BFnBjpxfJ"
      }
    },
    {
      "cell_type": "code",
      "source": [
        "def softmax(x) :\n",
        "  exp_x = np.exp(x)\n",
        "  sum_exp = np.sum(x)\n",
        "  y = exp_x / sum_exp\n",
        "  \n",
        "  return y"
      ],
      "metadata": {
        "id": "t2CiI71apwAW"
      },
      "execution_count": 20,
      "outputs": []
    },
    {
      "cell_type": "code",
      "source": [
        ""
      ],
      "metadata": {
        "id": "B6vD9YxSp0ru"
      },
      "execution_count": null,
      "outputs": []
    },
    {
      "cell_type": "markdown",
      "source": [
        "#### softmax 의 오버플로 방지"
      ],
      "metadata": {
        "id": "ngOc848yqtcz"
      }
    },
    {
      "cell_type": "code",
      "source": [
        "def softmax(x) :\n",
        "  max_v = np.max(x)\n",
        "  exp_x = np.exp(x - max_v)\n",
        "  sum_exp = np.sum(exp_x)\n",
        "  y = exp_x / sum_exp\n",
        "\n",
        "  return y"
      ],
      "metadata": {
        "id": "XGPue4x_p0tn"
      },
      "execution_count": 21,
      "outputs": []
    },
    {
      "cell_type": "code",
      "source": [
        "a = np.array([0.1, 0.2, 0.3])\n",
        "softmax(a)"
      ],
      "metadata": {
        "colab": {
          "base_uri": "https://localhost:8080/"
        },
        "id": "2t8PrVK-qw3J",
        "outputId": "03e08399-c48d-4e08-c598-57616b1041cc"
      },
      "execution_count": 22,
      "outputs": [
        {
          "output_type": "execute_result",
          "data": {
            "text/plain": [
              "array([0.30060961, 0.33222499, 0.3671654 ])"
            ]
          },
          "metadata": {},
          "execution_count": 22
        }
      ]
    },
    {
      "cell_type": "code",
      "source": [
        "np.sum(softmax(a))"
      ],
      "metadata": {
        "colab": {
          "base_uri": "https://localhost:8080/"
        },
        "id": "1b2C52G6qw5H",
        "outputId": "4c1f052c-d018-4ba4-b754-ffca340d5b5d"
      },
      "execution_count": 24,
      "outputs": [
        {
          "output_type": "execute_result",
          "data": {
            "text/plain": [
              "1.0"
            ]
          },
          "metadata": {},
          "execution_count": 24
        }
      ]
    },
    {
      "cell_type": "code",
      "source": [
        ""
      ],
      "metadata": {
        "id": "pBPwsUEep0vt"
      },
      "execution_count": null,
      "outputs": []
    }
  ]
}