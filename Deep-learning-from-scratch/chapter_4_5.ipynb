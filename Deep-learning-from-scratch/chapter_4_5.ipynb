{
  "nbformat": 4,
  "nbformat_minor": 0,
  "metadata": {
    "colab": {
      "name": "chapter_4-5.ipynb",
      "provenance": [],
      "collapsed_sections": [],
      "authorship_tag": "ABX9TyPSlELpOkRQieJNn55r1WPn",
      "include_colab_link": true
    },
    "kernelspec": {
      "name": "python3",
      "display_name": "Python 3"
    },
    "language_info": {
      "name": "python"
    }
  },
  "cells": [
    {
      "cell_type": "markdown",
      "metadata": {
        "id": "view-in-github",
        "colab_type": "text"
      },
      "source": [
        "<a href=\"https://colab.research.google.com/github/yjyjy131/Study_Deep_Learning/blob/main/Deep-learning-from-scratch/chapter_4_5.ipynb\" target=\"_parent\"><img src=\"https://colab.research.google.com/assets/colab-badge.svg\" alt=\"Open In Colab\"/></a>"
      ]
    },
    {
      "cell_type": "markdown",
      "source": [
        "### 미니배치 학습 구현하기"
      ],
      "metadata": {
        "id": "A8YQckfvyUax"
      }
    },
    {
      "cell_type": "code",
      "source": [
        "import numpy as np"
      ],
      "metadata": {
        "id": "ZglT41Oe1tQC"
      },
      "execution_count": 6,
      "outputs": []
    },
    {
      "cell_type": "code",
      "source": [
        "from functions import *\n",
        "from gradient import numerical_gradient\n",
        "from mnist import load_mnist"
      ],
      "metadata": {
        "id": "Ja88l8ekmtVM"
      },
      "execution_count": 27,
      "outputs": []
    },
    {
      "cell_type": "code",
      "source": [
        "class TestNet:\n",
        "  def __init__(self, in_size, hidden_size, out_size, weight=0.01) :\n",
        "    self.params = {}\n",
        "    self.params['W1'] = weight * np.random.randn(in_size, hidden_size)\n",
        "    self.params['b1'] = np.zeros(hidden_size)\n",
        "    self.params['W2'] = weight * np.random.randn(hidden_size, out_size)\n",
        "    self.params['b2'] = np.zeros(out_size)\n",
        "\n",
        "  \n",
        "  def predict(self, x) :\n",
        "    W1, W2 = self.params['W1'], self.params['W2']\n",
        "    b1, b2 = self.params['b1'], self.params['b2']\n",
        "\n",
        "    a1 = np.dot(x, W1) + b1\n",
        "    z1 = sigmoid(a1)\n",
        "    a2 = np.dot(z1, W2) + b2\n",
        "    y = softmax(a2)\n",
        "\n",
        "    return y\n",
        "\n",
        "\n",
        "  def loss(self, x, t) :\n",
        "    y = self.predict(x)\n",
        "    return cross_entropy_error(y, t)\n",
        "\n",
        "\n",
        "  def accuracy(self, x, t) :\n",
        "    y = self.predict(x)\n",
        "    y = np.argmax(y, axis=1)\n",
        "    t = np.argmax(t, axis=1)\n",
        "\n",
        "    acc = np.sum(y==t) / float(x.shape[0])\n",
        "    return acc\n",
        "\n",
        "\n",
        "  # gradient 구현 함수는 생략되어있음\n",
        "  def numerical_gradient(self, x, t) :\n",
        "    loss_W = lambda W : self.loss(x, t)\n",
        "\n",
        "    grads = {}\n",
        "    grads['W1'] = numerical_gradient(loss_W, self.params['W1'])\n",
        "    grads['b1'] = numerical_gradient(loss_W, self.params['b1'])\n",
        "    grads['W2'] = numerical_gradient(loss_W, self.params['W2'])\n",
        "    grads['b2'] = numerical_gradient(loss_W, self.params['b2'])\n",
        "\n",
        "    return grads"
      ],
      "metadata": {
        "id": "YFu5OJRQmtXY"
      },
      "execution_count": 28,
      "outputs": []
    },
    {
      "cell_type": "code",
      "source": [
        ""
      ],
      "metadata": {
        "id": "eHft0zo6hu37"
      },
      "execution_count": null,
      "outputs": []
    },
    {
      "cell_type": "code",
      "source": [
        "(x_train, y_train), (x_test, y_test) = load_mnist(normalize=True, one_hot_label=True)\n",
        "\n",
        "train_loss = []\n",
        "train_acc = []\n",
        "test_acc = []\n",
        "\n",
        "epochs = 10000\n",
        "train_size = x_train.shape[0]\n",
        "batch_size = 100\n",
        "lr = 0.1\n",
        "net = TestNet(in_size=784, hidden_size=50, out_size=10)\n",
        "\n",
        "# 나누기 후 소수 1번째자리까지\n",
        "iter_per_epoch = max(train_size/batch_size, 1)"
      ],
      "metadata": {
        "id": "eklCkgQWj0xL"
      },
      "execution_count": null,
      "outputs": []
    },
    {
      "cell_type": "code",
      "source": [
        "for i in range(epochs) :\n",
        "  # train_size 만큼의 숫자에서 랜덤으로 batch_size 개수의 숫자를 뽑아냄\n",
        "  batch_mask = np.random.choice(train_size, batch_size)\n",
        "\n",
        "  x_batch = x_train[batch_mask]\n",
        "  y_batch = y_train[batch_mask]\n",
        "\n",
        "  grad = net.numerical_gradient(x_batch, y_batch)\n",
        "\n",
        "  for k in ('W1', 'b1', 'W2', 'b2') :\n",
        "    net.params[k] -= lr * grad[k]\n",
        "\n",
        "  loss = net.loss(x_batch, y_batch)\n",
        "  train_loss.append(loss)\n",
        "\n",
        "  if i % iter_per_epoch == 0 :\n",
        "    tmp_train_acc = net.accuracy(x_train, y_train)\n",
        "    tmp_test_acc = net.accuracy(x_test, y_test)\n",
        "    train_acc.append(tmp_train_acc)\n",
        "    test_acc.append(tmp_test_acc)\n",
        "    print(f'train acc : {tmp_train_acc} / test acc : {tmp_test_acc}') "
      ],
      "metadata": {
        "id": "t1YuRe9vj1JP"
      },
      "execution_count": null,
      "outputs": []
    },
    {
      "cell_type": "code",
      "source": [
        ""
      ],
      "metadata": {
        "id": "5vOfTtMOlUga"
      },
      "execution_count": null,
      "outputs": []
    }
  ]
}