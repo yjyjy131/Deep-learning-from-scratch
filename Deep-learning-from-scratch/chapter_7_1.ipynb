{
  "nbformat": 4,
  "nbformat_minor": 0,
  "metadata": {
    "colab": {
      "name": "chapter_7-1.ipynb",
      "provenance": [],
      "collapsed_sections": [],
      "authorship_tag": "ABX9TyM5bgIEqK/rk3WAjULgwdfs",
      "include_colab_link": true
    },
    "kernelspec": {
      "name": "python3",
      "display_name": "Python 3"
    },
    "language_info": {
      "name": "python"
    }
  },
  "cells": [
    {
      "cell_type": "markdown",
      "metadata": {
        "id": "view-in-github",
        "colab_type": "text"
      },
      "source": [
        "<a href=\"https://colab.research.google.com/github/yjyjy131/Study_Deep_Learning/blob/main/Deep-learning-from-scratch/chapter_7_1.ipynb\" target=\"_parent\"><img src=\"https://colab.research.google.com/assets/colab-badge.svg\" alt=\"Open In Colab\"/></a>"
      ]
    },
    {
      "cell_type": "markdown",
      "source": [
        "### 4차원 배열 이미지를 2차원 배열로 변환"
      ],
      "metadata": {
        "id": "AVbLw-e7zSlr"
      }
    },
    {
      "cell_type": "code",
      "source": [
        "import sys, os\n",
        "import numpy as np"
      ],
      "metadata": {
        "id": "nO-abEHbceFk"
      },
      "execution_count": 1,
      "outputs": []
    },
    {
      "cell_type": "code",
      "source": [
        "# 4차원 배열 이미지 (수, 채널, 높이, 너비) 다수를 입력받아 2차원 배열로 변환\n",
        "def img2col(input_data, filter_h, filter_w, stride=1, pad=0) :\n",
        "  N, C, H, W = input_data.shape\n",
        "\n",
        "  # 필터 적용시 h, w 의 크기 계산 수식\n",
        "  out_h = (H + 2*pad - filter_h) // stride + 1\n",
        "  out_w = (W + 2*pad - filter_w) // stride + 1\n",
        "\n",
        "  # input_data 에서 높이, 너비에만 padding 값을 더함\n",
        "  img = np.pad(input_data, [(0, 0), (0, 0), (pad, pad), (pad, pad)], 'constant')\n",
        "  col = np.zeros((N, C, filter_h, filter_w, out_h, out_w))\n",
        "\n",
        "  for y in range(filter_h) :\n",
        "    y_max = y + stride * out_h\n",
        "    for x in range(filter_w) :\n",
        "      x_max = x + stride * out_w\n",
        "      # col[...] 의 자리에 차례대로 img[...] 의 값을 넣는다\n",
        "      col[:, :, y, x, :, :] = img[:, :, y:y_max:stride, x:x_max:stride]\n",
        "\n",
        "  # 원하는 column 원소 순서대로 전치 \n",
        "  col = col.transpose(0, 4, 5, 1, 2, 3).reshape(N * out_h * out_w -1)\n",
        "\n",
        "  return col"
      ],
      "metadata": {
        "id": "2qMbwHaVysFI"
      },
      "execution_count": 62,
      "outputs": []
    },
    {
      "cell_type": "code",
      "source": [
        ""
      ],
      "metadata": {
        "id": "ZftrzasbxSEp"
      },
      "execution_count": null,
      "outputs": []
    },
    {
      "cell_type": "markdown",
      "source": [
        "### Convolution layer 구현하기"
      ],
      "metadata": {
        "id": "iZkrZ9__cfeP"
      }
    },
    {
      "cell_type": "code",
      "source": [
        "class Convolution:\n",
        "  def __init__ (self, W, b, stride=1, pad=0) :\n",
        "    self.W = W\n",
        "    self.b = b\n",
        "    self.stride = stride\n",
        "    self.pad = pad\n",
        "\n",
        "  def forward(self, x) :\n",
        "    # 필터는 CNN 의 가중치에 해당한다\n",
        "    FN, C, FH, FW = self.W.shape\n",
        "    N, C, H, W = x.shape\n",
        "    out_h = int( 1 + (H + 2*self.pad - FH) / self.stride)\n",
        "    out_w = int( 1 + (W + 2*self.pad - FW) / self.stride)\n",
        "\n",
        "    # 입력데이터, 필터 전개 \n",
        "    col = img2col(x, FH, FW, self.stride, self.pad)\n",
        "    # -1 을 함께 입력해 reshape 해야 원소 수를 똑같이 유지하며 변형 가능\n",
        "    # -1 을 사용하지 않을 시 reshape error 발생\n",
        "    # FN * C * FH * FW 개 데이터를 (FN, C*CH*FW) 의 데이터 shape 으로 변환\n",
        "    col_W = self.W.reshape(FN, -1).T\n",
        "\n",
        "    # 필터 연산\n",
        "    out = np.dot(col, col_W) + self.b\n",
        "\n",
        "    out = out.reshape(N, out_h, out_w, -1).tranpose(0, 3, 1, 2)\n",
        "\n",
        "    return out"
      ],
      "metadata": {
        "id": "8T_DbfhpxFIj"
      },
      "execution_count": 61,
      "outputs": []
    }
  ]
}