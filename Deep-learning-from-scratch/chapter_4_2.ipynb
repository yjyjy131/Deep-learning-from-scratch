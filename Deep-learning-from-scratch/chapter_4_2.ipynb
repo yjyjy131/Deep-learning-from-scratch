{
  "nbformat": 4,
  "nbformat_minor": 0,
  "metadata": {
    "colab": {
      "name": "chapter_4-2.ipynb",
      "provenance": [],
      "collapsed_sections": [],
      "authorship_tag": "ABX9TyPFeNz9ZZ7CO1bye7Y61TLQ",
      "include_colab_link": true
    },
    "kernelspec": {
      "name": "python3",
      "display_name": "Python 3"
    },
    "language_info": {
      "name": "python"
    }
  },
  "cells": [
    {
      "cell_type": "markdown",
      "metadata": {
        "id": "view-in-github",
        "colab_type": "text"
      },
      "source": [
        "<a href=\"https://colab.research.google.com/github/yjyjy131/Study_Deep_Learning/blob/main/Deep-learning-from-scratch/chapter_4_2.ipynb\" target=\"_parent\"><img src=\"https://colab.research.google.com/assets/colab-badge.svg\" alt=\"Open In Colab\"/></a>"
      ]
    },
    {
      "cell_type": "markdown",
      "source": [
        "### 배치용 교차 엔트로피 오차"
      ],
      "metadata": {
        "id": "A8YQckfvyUax"
      }
    },
    {
      "cell_type": "code",
      "source": [
        "import numpy as np"
      ],
      "metadata": {
        "id": "ZglT41Oe1tQC"
      },
      "execution_count": 1,
      "outputs": []
    },
    {
      "cell_type": "code",
      "source": [
        "from mnist import load_mnist"
      ],
      "metadata": {
        "id": "pGzdptcwiJ4l"
      },
      "execution_count": 4,
      "outputs": []
    },
    {
      "cell_type": "code",
      "source": [
        "(train_X, train_y), (test_X, test_y) = load_mnist()"
      ],
      "metadata": {
        "colab": {
          "base_uri": "https://localhost:8080/"
        },
        "id": "aY_Snds1WnxW",
        "outputId": "1e488ad2-c935-4bba-c61a-b7a2cad9c2f6"
      },
      "execution_count": 6,
      "outputs": [
        {
          "output_type": "stream",
          "name": "stdout",
          "text": [
            "Downloading train-images-idx3-ubyte.gz ... \n",
            "Done\n",
            "Downloading train-labels-idx1-ubyte.gz ... \n",
            "Done\n",
            "Downloading t10k-images-idx3-ubyte.gz ... \n",
            "Done\n",
            "Downloading t10k-labels-idx1-ubyte.gz ... \n",
            "Done\n",
            "Converting train-images-idx3-ubyte.gz to NumPy Array ...\n",
            "Done\n",
            "Converting train-labels-idx1-ubyte.gz to NumPy Array ...\n",
            "Done\n",
            "Converting t10k-images-idx3-ubyte.gz to NumPy Array ...\n",
            "Done\n",
            "Converting t10k-labels-idx1-ubyte.gz to NumPy Array ...\n",
            "Done\n",
            "Creating pickle file ...\n",
            "Done!\n"
          ]
        }
      ]
    },
    {
      "cell_type": "code",
      "source": [
        "test_y.shape"
      ],
      "metadata": {
        "colab": {
          "base_uri": "https://localhost:8080/"
        },
        "id": "2Flg8jq3iiyE",
        "outputId": "7ec66550-8963-450d-9964-89806bd8c56a"
      },
      "execution_count": 8,
      "outputs": [
        {
          "output_type": "execute_result",
          "data": {
            "text/plain": [
              "(10000,)"
            ]
          },
          "metadata": {},
          "execution_count": 8
        }
      ]
    },
    {
      "cell_type": "code",
      "source": [
        "train_X = train_X.reshape(60000, 784)\n",
        "test_X = test_X.reshape(10000, 784)"
      ],
      "metadata": {
        "id": "0-TfKK_2WpYC"
      },
      "execution_count": 84,
      "outputs": []
    },
    {
      "cell_type": "code",
      "source": [
        "train_shape = (train_y.size, train_y.max()+1) # (60000, 10)\n",
        "test_shape = (test_y.size, test_y.max()+1) # (10000, 10)"
      ],
      "metadata": {
        "id": "oOxDLAXXWq3q"
      },
      "execution_count": 85,
      "outputs": []
    },
    {
      "cell_type": "code",
      "source": [
        "train_onehot = np.zeros(train_shape)\n",
        "test_onehot = np.zeros(test_shape)"
      ],
      "metadata": {
        "id": "gu3HOLhjWrRn"
      },
      "execution_count": 86,
      "outputs": []
    },
    {
      "cell_type": "code",
      "source": [
        "train_rows = np.arange(train_y.size)\n",
        "test_rows = np.arange(test_y.size)"
      ],
      "metadata": {
        "id": "EhaV5_ZmWrUY"
      },
      "execution_count": 87,
      "outputs": []
    },
    {
      "cell_type": "code",
      "source": [
        "train_onehot[train_rows, train_y] =1\n",
        "test_onehot[test_rows, test_y] = 1"
      ],
      "metadata": {
        "id": "k0mlanq0WrXL"
      },
      "execution_count": 88,
      "outputs": []
    },
    {
      "cell_type": "code",
      "source": [
        "train_size = train_X.shape[0]\n",
        "batch_size = 10\n",
        "batch_mask = np.random.choice(train_size, batch_size)\n",
        "x_batch = train_X[batch_mask]\n",
        "y_batch = train_onehot[batch_mask]"
      ],
      "metadata": {
        "id": "51PPxOcDWvqz"
      },
      "execution_count": 89,
      "outputs": []
    },
    {
      "cell_type": "code",
      "source": [
        "y_batch.shape"
      ],
      "metadata": {
        "colab": {
          "base_uri": "https://localhost:8080/"
        },
        "id": "y_Zsrx_EnCFk",
        "outputId": "0c63fd2e-f474-472b-c780-f6e91e34cddc"
      },
      "execution_count": 91,
      "outputs": [
        {
          "output_type": "execute_result",
          "data": {
            "text/plain": [
              "(10, 10)"
            ]
          },
          "metadata": {},
          "execution_count": 91
        }
      ]
    },
    {
      "cell_type": "code",
      "source": [
        ""
      ],
      "metadata": {
        "id": "8UspF51BXYI6"
      },
      "execution_count": null,
      "outputs": []
    },
    {
      "cell_type": "code",
      "source": [
        "# y, p 의 형태가 원 핫 인코딩인 경우\n",
        "def cross_entropy(y, p) :\n",
        "\n",
        "  # 데이터가 1개만 존재하는 경우에도 계산가능하도록 reshape\n",
        "  if p.ndim == 1 :\n",
        "    p = p.reshape(1, p.size)\n",
        "    y = y.reshape(1, y.size)\n",
        "\n",
        "  batch_size = y.shape[0]  \n",
        "  return - np.sum(y * np.log(p + le-7)) / batch_size"
      ],
      "metadata": {
        "id": "RZreterRV7Ta"
      },
      "execution_count": 35,
      "outputs": []
    },
    {
      "cell_type": "code",
      "source": [
        "# p 는 원 핫, y가 하나의 숫자로만 주어진 경우\n",
        "def cross_entropy(y, p) :\n",
        "  if p.ndim == 1 :\n",
        "    p = p.reshape(1, p.size)\n",
        "    y = y.reshape(1, y.size)\n",
        "\n",
        "  batch_size = y.shape[0]\n",
        "  # \n",
        "  return - np.sum(np.log(p[np.arange(batch_size), y] + 1e-7)) / batch_size"
      ],
      "metadata": {
        "id": "v88DfrTcaASo"
      },
      "execution_count": 36,
      "outputs": []
    },
    {
      "cell_type": "code",
      "source": [
        ""
      ],
      "metadata": {
        "id": "pM9gJzJAmIcm"
      },
      "execution_count": null,
      "outputs": []
    },
    {
      "cell_type": "code",
      "source": [
        "# 마지막 줄 테스트 데이터 \n",
        "y = np.array([[1, 2, 3], [4, 5, 6], [7, 8, 9]])\n",
        "p = np.array([1, 0, 2])\n",
        "\n",
        "batch_size = y.shape[0]\n",
        "y[np.arange(batch_size), p]"
      ],
      "metadata": {
        "colab": {
          "base_uri": "https://localhost:8080/"
        },
        "id": "FX3AkAt0hUwx",
        "outputId": "225a59dd-cbd7-4ba2-dd06-113e69fb4eb1"
      },
      "execution_count": 104,
      "outputs": [
        {
          "output_type": "execute_result",
          "data": {
            "text/plain": [
              "array([2, 4, 9])"
            ]
          },
          "metadata": {},
          "execution_count": 104
        }
      ]
    }
  ]
}