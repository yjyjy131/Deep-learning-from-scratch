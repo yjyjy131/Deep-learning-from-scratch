{
  "nbformat": 4,
  "nbformat_minor": 0,
  "metadata": {
    "colab": {
      "name": "chapter_05-1.ipynb",
      "provenance": [],
      "collapsed_sections": [],
      "mount_file_id": "1JyjVuxcXtHDDJ4cSJZ2Dv15HdTqQeUZz",
      "authorship_tag": "ABX9TyNb/L1uyfEqQT6zIqk6TF3V",
      "include_colab_link": true
    },
    "kernelspec": {
      "name": "python3",
      "display_name": "Python 3"
    },
    "language_info": {
      "name": "python"
    }
  },
  "cells": [
    {
      "cell_type": "markdown",
      "metadata": {
        "id": "view-in-github",
        "colab_type": "text"
      },
      "source": [
        "<a href=\"https://colab.research.google.com/github/yjyjy131/Study_Deep_Learning/blob/main/Deep-learning-from-scratch/chapter_05_1.ipynb\" target=\"_parent\"><img src=\"https://colab.research.google.com/assets/colab-badge.svg\" alt=\"Open In Colab\"/></a>"
      ]
    },
    {
      "cell_type": "markdown",
      "source": [
        "###곱셈 계층"
      ],
      "metadata": {
        "id": "UlBSzozusHhY"
      }
    },
    {
      "cell_type": "code",
      "source": [
        "class MulLayer :\n",
        "  def __init__(self) :\n",
        "    self.x = None\n",
        "    self.y = None\n",
        "\n",
        "\n",
        "  def forward(self, x, y) :\n",
        "    self.x = x\n",
        "    self.y = y\n",
        "    out = x * y\n",
        "\n",
        "    return out\n",
        "\n",
        "\n",
        "  def backward(self, dout) :\n",
        "    dx = dout * self.y\n",
        "    dy = dout * self.x\n",
        "\n",
        "    return dx, dy"
      ],
      "metadata": {
        "id": "0Dapv1P1sJdM"
      },
      "execution_count": 7,
      "outputs": []
    },
    {
      "cell_type": "code",
      "source": [
        "tomato = 100\n",
        "tomato_num = 2\n",
        "tax = 1.1\n",
        "\n",
        "mul_tomato_layer = MulLayer()\n",
        "mul_tax_layer = MulLayer()\n",
        "\n",
        "tomato_price = mul_tomato_layer.forward(tomato, tomato_num)\n",
        "price = mul_tax_layer.forward(tomato_price, tax)\n",
        "\n",
        "price"
      ],
      "metadata": {
        "colab": {
          "base_uri": "https://localhost:8080/"
        },
        "id": "YhpFpZShsrPW",
        "outputId": "3e826c00-8a9b-4b66-ebfe-fb027555061d"
      },
      "execution_count": 8,
      "outputs": [
        {
          "output_type": "execute_result",
          "data": {
            "text/plain": [
              "220.00000000000003"
            ]
          },
          "metadata": {},
          "execution_count": 8
        }
      ]
    },
    {
      "cell_type": "code",
      "source": [
        "dprice = 1\n",
        "dtomato_price, dtax = mul_tax_layer.backward(dprice)\n",
        "dtomato, dtomato_num = mul_tomato_layer.backward(dtomato_price)\n",
        "\n",
        "print(dtomato, dtomato_num, dtax)"
      ],
      "metadata": {
        "colab": {
          "base_uri": "https://localhost:8080/"
        },
        "id": "_LPgeibLtFNB",
        "outputId": "2a7d9f27-3f66-493e-ccb5-e826c2ce8714"
      },
      "execution_count": 9,
      "outputs": [
        {
          "output_type": "stream",
          "name": "stdout",
          "text": [
            "2.2 110.00000000000001 200\n"
          ]
        }
      ]
    },
    {
      "cell_type": "code",
      "source": [
        ""
      ],
      "metadata": {
        "id": "X7-7DZAntFPg"
      },
      "execution_count": null,
      "outputs": []
    },
    {
      "cell_type": "markdown",
      "source": [
        "###덧셈 계층"
      ],
      "metadata": {
        "id": "FT6mERSHtgjv"
      }
    },
    {
      "cell_type": "code",
      "source": [
        "class AddLayer() :\n",
        "  def __init__ (self) :\n",
        "    pass\n",
        "\n",
        "  def forward(self, x, y) :\n",
        "    return x + y\n",
        "\n",
        "  def backward(self, dout) :\n",
        "    dx = dout * 1\n",
        "    dy = dout * 1\n",
        "    return dx, dy"
      ],
      "metadata": {
        "id": "V9Qd9lH6srRy"
      },
      "execution_count": 10,
      "outputs": []
    },
    {
      "cell_type": "code",
      "source": [
        ""
      ],
      "metadata": {
        "id": "XQZcWLdAt6oU"
      },
      "execution_count": null,
      "outputs": []
    },
    {
      "cell_type": "code",
      "source": [
        "apple = 100\n",
        "apple_num = 2\n",
        "oragne = 150\n",
        "orange_num = 3\n",
        "tax = 1.1\n",
        "\n",
        "mul_apple_layer = MulLayer()\n",
        "mul_orange_layer = MulLayer()\n",
        "add_fruits_layer = AddLayer()\n",
        "mul_tax_layer = MulLayer()\n",
        "\n",
        "apple_price = mul_apple_layer.forward(apple, apple_num)\n",
        "orange_price = mul_orange_layer.forward(oragne, orange_num)\n",
        "all_price = add_fruits_layer.forward(apple_price, orange_price)\n",
        "price = mul_tax_layer.forward(all_price, tax)\n",
        "\n",
        "dprice = 1\n",
        "dall_price, dtax = mul_tax_layer.backward(dprice)\n",
        "dapple_price, dorange_pirce = add_fruits_layer.backward(dall_price)\n",
        "dorage, dorange_num = add_fruits_layer.backward(dorange_pirce)\n",
        "dapple, dapple_num = mul_apple_layer.backward(dapple_price)\n",
        "\n",
        "print(price)\n",
        "print(dapple, dapple_num, dorage, dorange_num)\n"
      ],
      "metadata": {
        "colab": {
          "base_uri": "https://localhost:8080/"
        },
        "id": "BGTwLnV_u6R4",
        "outputId": "5a10919a-8d03-4836-b338-934e06e2f0f3"
      },
      "execution_count": 14,
      "outputs": [
        {
          "output_type": "stream",
          "name": "stdout",
          "text": [
            "715.0000000000001\n",
            "2.2 110.00000000000001 1.1 1.1\n"
          ]
        }
      ]
    },
    {
      "cell_type": "code",
      "source": [
        ""
      ],
      "metadata": {
        "id": "L45y4DeXt6qp"
      },
      "execution_count": null,
      "outputs": []
    },
    {
      "cell_type": "code",
      "source": [
        ""
      ],
      "metadata": {
        "id": "ol7cBKkrsrUO"
      },
      "execution_count": null,
      "outputs": []
    }
  ]
}