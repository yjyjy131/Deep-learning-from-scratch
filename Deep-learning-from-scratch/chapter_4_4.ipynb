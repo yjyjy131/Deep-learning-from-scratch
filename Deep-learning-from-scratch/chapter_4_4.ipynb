{
  "nbformat": 4,
  "nbformat_minor": 0,
  "metadata": {
    "colab": {
      "name": "chapter_4-4.ipynb",
      "provenance": [],
      "collapsed_sections": [],
      "authorship_tag": "ABX9TyMoX9EQP2y7Xyz5OM3+1IUM",
      "include_colab_link": true
    },
    "kernelspec": {
      "name": "python3",
      "display_name": "Python 3"
    },
    "language_info": {
      "name": "python"
    }
  },
  "cells": [
    {
      "cell_type": "markdown",
      "metadata": {
        "id": "view-in-github",
        "colab_type": "text"
      },
      "source": [
        "<a href=\"https://colab.research.google.com/github/yjyjy131/Study_Deep_Learning/blob/main/Deep-learning-from-scratch/chapter_4_4.ipynb\" target=\"_parent\"><img src=\"https://colab.research.google.com/assets/colab-badge.svg\" alt=\"Open In Colab\"/></a>"
      ]
    },
    {
      "cell_type": "markdown",
      "source": [
        "### 신경망 클래스 구현하기"
      ],
      "metadata": {
        "id": "A8YQckfvyUax"
      }
    },
    {
      "cell_type": "code",
      "source": [
        "import numpy as np"
      ],
      "metadata": {
        "id": "ZglT41Oe1tQC"
      },
      "execution_count": 6,
      "outputs": []
    },
    {
      "cell_type": "code",
      "source": [
        "from functions import *\n",
        "from gradient import numerical_gradient"
      ],
      "metadata": {
        "id": "Ja88l8ekmtVM"
      },
      "execution_count": 8,
      "outputs": []
    },
    {
      "cell_type": "code",
      "source": [
        "class TestNet:\n",
        "  def __init__(self, in_size, hidden_size, out_size, weight=0.01) :\n",
        "    self.params = {}\n",
        "    self.params['W1'] = weight * np.random.randn(in_size, hidden_size)\n",
        "    self.params['b1'] = np.zeros(hidden_size)\n",
        "    self.params['W2'] = weight * np.random.randn(hidden_size, out_size)\n",
        "    self.params['b2'] = np.zeros(out_size)\n",
        "\n",
        "  \n",
        "  def predict(self, x) :\n",
        "    W1, W2 = self.params['W1'], self.params['W2']\n",
        "    b1, b2 = self.params['b1'], self.params['b2']\n",
        "\n",
        "    a1 = np.dot(x, W1) + b1\n",
        "    z1 = sigmoid(a1)\n",
        "    a2 = np.dot(z1, W2) + b2\n",
        "    y = softmax(a2)\n",
        "\n",
        "    return y\n",
        "\n",
        "\n",
        "  def loss(self, x, t) :\n",
        "    y = self.predict(x)\n",
        "    return cross_entropy_error(y, t)\n",
        "\n",
        "\n",
        "  def accuracy(self, x, t) :\n",
        "    y = self.predict(x)\n",
        "    y = np.argmax(y, axis=1)\n",
        "    t = np.argmax(t, axis=1)\n",
        "\n",
        "    acc = np.sum(y==t) / float(x.shape[0])\n",
        "    return acc\n",
        "\n",
        "\n",
        "  # gradient 구현 함수는 생략되어있음\n",
        "  def numerical_gradient(self, x, t) :\n",
        "    loss_W = lambda W : self.loss(x, t)\n",
        "    \n",
        "    grads = {}\n",
        "    grads['W1'] = numerical_gradient(loss_W, self.params['W1'])\n",
        "    grads['b1'] = numerical_gradient(loss_W, self.params['b1'])\n",
        "    grads['W2'] = numerical_gradient(loss_W, self.params['W2'])\n",
        "    grads['b2'] = numerical_gradient(loss_W, self.params['b2'])\n",
        "\n",
        "    return grads"
      ],
      "metadata": {
        "id": "YFu5OJRQmtXY"
      },
      "execution_count": 22,
      "outputs": []
    },
    {
      "cell_type": "code",
      "source": [
        "net = TestNet(in_size=784, hidden_size=100, out_size=10)\n",
        "\n",
        "x = np.random.rand(100, 784)\n",
        "y = np.random.rand(100, 10)\n",
        "\n",
        "p = net.predict(x)\n",
        "#grads = net.numerical_gradient(x, y)"
      ],
      "metadata": {
        "id": "r6F70bESmy6m"
      },
      "execution_count": 24,
      "outputs": []
    },
    {
      "cell_type": "code",
      "source": [
        ""
      ],
      "metadata": {
        "id": "eHft0zo6hu37"
      },
      "execution_count": null,
      "outputs": []
    }
  ]
}