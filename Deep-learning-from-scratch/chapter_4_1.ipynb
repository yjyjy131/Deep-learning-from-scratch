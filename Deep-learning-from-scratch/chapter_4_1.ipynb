{
  "nbformat": 4,
  "nbformat_minor": 0,
  "metadata": {
    "colab": {
      "name": "chapter_4-1.ipynb",
      "provenance": [],
      "collapsed_sections": [],
      "mount_file_id": "1JyjVuxcXtHDDJ4cSJZ2Dv15HdTqQeUZz",
      "authorship_tag": "ABX9TyO71doBF5BJ8k8FjfgfNHEN",
      "include_colab_link": true
    },
    "kernelspec": {
      "name": "python3",
      "display_name": "Python 3"
    },
    "language_info": {
      "name": "python"
    }
  },
  "cells": [
    {
      "cell_type": "markdown",
      "metadata": {
        "id": "view-in-github",
        "colab_type": "text"
      },
      "source": [
        "<a href=\"https://colab.research.google.com/github/yjyjy131/Study_Deep_Learning/blob/main/Deep-learning-from-scratch/chapter_4_1.ipynb\" target=\"_parent\"><img src=\"https://colab.research.google.com/assets/colab-badge.svg\" alt=\"Open In Colab\"/></a>"
      ]
    },
    {
      "cell_type": "markdown",
      "source": [
        "### 손실함수"
      ],
      "metadata": {
        "id": "zrtxt3W2SHcs"
      }
    },
    {
      "cell_type": "code",
      "source": [
        "import numpy as np"
      ],
      "metadata": {
        "id": "JmAlakbeJ_jP"
      },
      "execution_count": 1,
      "outputs": []
    },
    {
      "cell_type": "code",
      "source": [
        "def sse(p, y) :\n",
        "  return 0.5 * np.sum((p-y)**2)"
      ],
      "metadata": {
        "id": "qg51d3shXiDs"
      },
      "execution_count": 3,
      "outputs": []
    },
    {
      "cell_type": "code",
      "source": [
        "def cee(p, y) :\n",
        "  delta = 1e-7\n",
        "  return - np.sum(y * np.log(p + delta))"
      ],
      "metadata": {
        "id": "rpOPHrQsXiGN"
      },
      "execution_count": 4,
      "outputs": []
    },
    {
      "cell_type": "code",
      "source": [
        ""
      ],
      "metadata": {
        "id": "3piBgKbiLCB4"
      },
      "execution_count": null,
      "outputs": []
    },
    {
      "cell_type": "markdown",
      "source": [
        "### 원핫인코딩과 미니배치\n"
      ],
      "metadata": {
        "id": "PfRtnQOmSKUN"
      }
    },
    {
      "cell_type": "code",
      "source": [
        "from keras.datasets import mnist"
      ],
      "metadata": {
        "id": "KJKeMIzWXiIq"
      },
      "execution_count": 5,
      "outputs": []
    },
    {
      "cell_type": "code",
      "source": [
        "from matplotlib.pyplot import imshow"
      ],
      "metadata": {
        "id": "syC5vJpKXiLA"
      },
      "execution_count": 6,
      "outputs": []
    },
    {
      "cell_type": "code",
      "source": [
        "(train_X, train_y), (test_X, test_y) = mnist.load_data()"
      ],
      "metadata": {
        "id": "lKgc8EzqXiNb",
        "colab": {
          "base_uri": "https://localhost:8080/"
        },
        "outputId": "d986ff9d-92b0-43d5-90b9-5604d6859284"
      },
      "execution_count": 7,
      "outputs": [
        {
          "output_type": "stream",
          "name": "stdout",
          "text": [
            "Downloading data from https://storage.googleapis.com/tensorflow/tf-keras-datasets/mnist.npz\n",
            "11493376/11490434 [==============================] - 0s 0us/step\n",
            "11501568/11490434 [==============================] - 0s 0us/step\n"
          ]
        }
      ]
    },
    {
      "cell_type": "code",
      "source": [
        "# 책과 같은 차원으로 reshape\n",
        "train_X = train_X.reshape(60000, 784)\n",
        "test_X = test_X.reshape(10000, 784)"
      ],
      "metadata": {
        "id": "4lPmvmGXL6pX"
      },
      "execution_count": 8,
      "outputs": []
    },
    {
      "cell_type": "code",
      "source": [
        "# index 로 이루어진 label 을 one hot encoding 변환\n",
        "train_shape = (train_y.size, train_y.max()+1) # (60000, 10)\n",
        "test_shape = (test_y.size, test_y.max()+1) # (10000, 10)"
      ],
      "metadata": {
        "id": "iHoSbnA5MzVD"
      },
      "execution_count": 24,
      "outputs": []
    },
    {
      "cell_type": "code",
      "source": [
        "# one hot encoding 할 zero arr 들을 생성\n",
        "train_onehot = np.zeros(train_shape)\n",
        "test_onehot = np.zeros(test_shape)"
      ],
      "metadata": {
        "id": "cZUo1ueqNUfH"
      },
      "execution_count": 29,
      "outputs": []
    },
    {
      "cell_type": "code",
      "source": [
        "# 아래 rows 에 생성된 순서대로 원핫인코딩 해나갈 것임\n",
        "train_rows = np.arange(train_y.size)\n",
        "test_rows = np.arange(test_y.size)"
      ],
      "metadata": {
        "id": "DejVX92CNf88"
      },
      "execution_count": 30,
      "outputs": []
    },
    {
      "cell_type": "code",
      "source": [
        "# train_rows 의 원소 수에 해당하는 행에서, train_y 인덱스 값과 일치하는 컬럼에 1을 표기해 차례대로 원핫 인코딩 해나간다\n",
        "train_onehot[train_rows, train_y] =1\n",
        "test_onehot[test_rows, test_y] = 1"
      ],
      "metadata": {
        "id": "gsVrLb4gONrt"
      },
      "execution_count": 32,
      "outputs": []
    },
    {
      "cell_type": "code",
      "source": [
        ""
      ],
      "metadata": {
        "id": "Dvjou6WiMC-e"
      },
      "execution_count": null,
      "outputs": []
    },
    {
      "cell_type": "code",
      "source": [
        "# 60000개 ( train_size ) 의 학습 데이터 중에 10개 ( batch_size ) 개의 데이터를 랜덤으로 뽑아냄 = 데이터 인덱스에 해당\n",
        "train_size = train_X.shape[0]\n",
        "batch_size = 10\n",
        "batch_mask = np.random.choice(train_size, batch_size)\n",
        "x_batch = train_X[batch_mask]\n",
        "y_batch = train_onehot[batch_mask]"
      ],
      "metadata": {
        "id": "_xgV7hzvXiPx"
      },
      "execution_count": 45,
      "outputs": []
    },
    {
      "cell_type": "code",
      "source": [
        ""
      ],
      "metadata": {
        "id": "Y3G-n5DhRmRt"
      },
      "execution_count": null,
      "outputs": []
    }
  ]
}