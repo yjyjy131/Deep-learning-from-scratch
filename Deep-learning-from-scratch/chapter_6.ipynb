{
  "nbformat": 4,
  "nbformat_minor": 0,
  "metadata": {
    "colab": {
      "name": "chapter_6.ipynb",
      "provenance": [],
      "collapsed_sections": [],
      "authorship_tag": "ABX9TyPD32PJBtbXxO3tkFQkjcMC",
      "include_colab_link": true
    },
    "kernelspec": {
      "name": "python3",
      "display_name": "Python 3"
    },
    "language_info": {
      "name": "python"
    }
  },
  "cells": [
    {
      "cell_type": "markdown",
      "metadata": {
        "id": "view-in-github",
        "colab_type": "text"
      },
      "source": [
        "<a href=\"https://colab.research.google.com/github/yjyjy131/Study_Deep_Learning/blob/main/Deep-learning-from-scratch/chapter_6.ipynb\" target=\"_parent\"><img src=\"https://colab.research.google.com/assets/colab-badge.svg\" alt=\"Open In Colab\"/></a>"
      ]
    },
    {
      "cell_type": "markdown",
      "source": [
        "### SGD"
      ],
      "metadata": {
        "id": "n9--gUOp3dEs"
      }
    },
    {
      "cell_type": "code",
      "execution_count": null,
      "metadata": {
        "id": "cU5pSisq3DdK"
      },
      "outputs": [],
      "source": [
        "class SGD:\n",
        "  def __init__(self, lr=0.001):\n",
        "    self.lr = lr\n",
        "\n",
        "  def update(self, params, grads):\n",
        "    for key in params.keys():\n",
        "      params[key] -= self.lr * grads[key]"
      ]
    },
    {
      "cell_type": "markdown",
      "source": [
        "### Momentum"
      ],
      "metadata": {
        "id": "2BIzC5NZ5arO"
      }
    },
    {
      "cell_type": "code",
      "source": [
        "class Momentum:\n",
        "  # 물체의 속도 v\n",
        "  def __init__(self, lr=0.001, momentum=0.9):\n",
        "    self.lr = lr\n",
        "    self.momentum = momentum\n",
        "    self.v = None\n",
        "\n",
        "  def update(self, parmas, grads):\n",
        "    if self.v is None :\n",
        "      self.v = {}\n",
        "      for key, val in params.items():\n",
        "        self.v[key] = np.zeros_like(val)\n",
        "\n",
        "    for key in params.keys():\n",
        "      self.v[key] = self.momentum * self.v[key] - self.lr*grads[key]\n",
        "      params[key] += self.v[key]"
      ],
      "metadata": {
        "id": "sohb9VSu5dL-"
      },
      "execution_count": null,
      "outputs": []
    },
    {
      "cell_type": "markdown",
      "source": [
        "### AdaGrad"
      ],
      "metadata": {
        "id": "dhN2Zopg6LBt"
      }
    },
    {
      "cell_type": "code",
      "source": [
        "class AdaGrad:\n",
        "  def __init__(self, lr=0.001):\n",
        "    self.lr = lr\n",
        "    self.h = None\n",
        "\n",
        "  def update(self, params, grads):\n",
        "    if self.h is None :\n",
        "      self.h = {}\n",
        "      for key, val in params.itmes():\n",
        "        self.h[key] = np.zeros_like(val)\n",
        "\n",
        "    for key, val in params.itmes():\n",
        "      self.h[key] += grads[key] * grads[key]\n",
        "      # 0 division 방지 위해 1e-7 값을 더해줌\n",
        "      parmas[key] -= self.lr * grads[key] / (np.sqrt(self.h[key]) + 1e-7)"
      ],
      "metadata": {
        "id": "KOrkrdT46MQd"
      },
      "execution_count": null,
      "outputs": []
    }
  ]
}