{
  "nbformat": 4,
  "nbformat_minor": 0,
  "metadata": {
    "colab": {
      "name": "chapter_4-3.ipynb",
      "provenance": [],
      "collapsed_sections": [],
      "authorship_tag": "ABX9TyN6sjmD7QxESFCY4u9O8Qsy",
      "include_colab_link": true
    },
    "kernelspec": {
      "name": "python3",
      "display_name": "Python 3"
    },
    "language_info": {
      "name": "python"
    }
  },
  "cells": [
    {
      "cell_type": "markdown",
      "metadata": {
        "id": "view-in-github",
        "colab_type": "text"
      },
      "source": [
        "<a href=\"https://colab.research.google.com/github/yjyjy131/Study_Deep_Learning/blob/main/Deep-learning-from-scratch/chapter_4_3.ipynb\" target=\"_parent\"><img src=\"https://colab.research.google.com/assets/colab-badge.svg\" alt=\"Open In Colab\"/></a>"
      ]
    },
    {
      "cell_type": "markdown",
      "source": [
        "### 편미분 기울기 구하기"
      ],
      "metadata": {
        "id": "A8YQckfvyUax"
      }
    },
    {
      "cell_type": "code",
      "source": [
        "import numpy as np"
      ],
      "metadata": {
        "id": "ZglT41Oe1tQC"
      },
      "execution_count": 1,
      "outputs": []
    },
    {
      "cell_type": "code",
      "source": [
        "# 편미분이 필요한 수식의 기울기 구하기\n",
        "def gradient(func, x) :\n",
        "  h = 1e-4\n",
        "  grad = np.zeros_like(x)\n",
        "\n",
        "  for i in range(x.size) :\n",
        "    tmp_val = x[i]\n",
        "    x[i] = tmp_val + h\n",
        "    fxh1 = func(x)\n",
        "\n",
        "    x[i] = tmp_val - h\n",
        "    fxh2 = func(x)\n",
        "\n",
        "    grad[i] = (fxh1 - fxh2) / (2*h)\n",
        "    x[i] = tmp_val\n",
        "\n",
        "  return grad"
      ],
      "metadata": {
        "id": "bYje5q_-5COo"
      },
      "execution_count": 51,
      "outputs": []
    },
    {
      "cell_type": "code",
      "source": [
        "# 서로 다른 변수 x0, x1 을 각각 제곱한 후 더하는 식\n",
        "def test_func(x) :\n",
        "  return x[0] ** 2 + x[1] ** 2"
      ],
      "metadata": {
        "id": "VxVuCyoF55jf"
      },
      "execution_count": 52,
      "outputs": []
    },
    {
      "cell_type": "code",
      "source": [
        ""
      ],
      "metadata": {
        "id": "Zj_5vAkH8H8g"
      },
      "execution_count": null,
      "outputs": []
    },
    {
      "cell_type": "code",
      "source": [
        "# 위 식을 사용하면 정수 배열은 제대로된 결과가 나오지 않는다. \n",
        "# 이 넘파이 배열의 dtype 은 int64 형이기 때문에, 위 식의 tmp_val + 1e-4 인 소수 값을 배열에 다시 \n",
        "# 저장할 때, 소수 그대로의 값이 아닌 정수값으로 변형되어 저장되므로 수식대로의 값을 유지할 수 없다. \n",
        "gradient(test_func, np.array([3, 4]))"
      ],
      "metadata": {
        "colab": {
          "base_uri": "https://localhost:8080/"
        },
        "id": "De9m-MwI66bi",
        "outputId": "926588d1-7771-449a-cfb6-00a9fd6d032e"
      },
      "execution_count": 53,
      "outputs": [
        {
          "output_type": "execute_result",
          "data": {
            "text/plain": [
              "array([25000, 35000])"
            ]
          },
          "metadata": {},
          "execution_count": 53
        }
      ]
    },
    {
      "cell_type": "code",
      "source": [
        "gradient(test_func, np.array([3.0, 4.0]))"
      ],
      "metadata": {
        "colab": {
          "base_uri": "https://localhost:8080/"
        },
        "id": "_PmkYvSi6ssY",
        "outputId": "084bdb3e-3dd7-49ee-ee98-ffa3386eda15"
      },
      "execution_count": 54,
      "outputs": [
        {
          "output_type": "execute_result",
          "data": {
            "text/plain": [
              "array([6., 8.])"
            ]
          },
          "metadata": {},
          "execution_count": 54
        }
      ]
    },
    {
      "cell_type": "code",
      "source": [
        ""
      ],
      "metadata": {
        "id": "NFM0u8v16uZZ"
      },
      "execution_count": null,
      "outputs": []
    },
    {
      "cell_type": "code",
      "source": [
        ""
      ],
      "metadata": {
        "id": "_ZCDiOzz6S2E"
      },
      "execution_count": null,
      "outputs": []
    },
    {
      "cell_type": "markdown",
      "source": [
        "### 경사 하강법"
      ],
      "metadata": {
        "id": "jh156nv3-eSn"
      }
    },
    {
      "cell_type": "code",
      "source": [
        "def gradient_descent(func, init_x, lr, step) :\n",
        "  x = init_x\n",
        "\n",
        "  for i in range(step) :\n",
        "    grad = gradient(func, x)\n",
        "    x -= lr * grad\n",
        "\n",
        "  return x"
      ],
      "metadata": {
        "id": "ahpZDCeZ6S4s"
      },
      "execution_count": 55,
      "outputs": []
    },
    {
      "cell_type": "code",
      "source": [
        "gradient_descent(test_func, np.array([-3.0, 4.0]), 0.01, 1000)"
      ],
      "metadata": {
        "colab": {
          "base_uri": "https://localhost:8080/"
        },
        "id": "kyfmceX46S7e",
        "outputId": "56c6090b-35e1-49df-9095-af46fa98dac3"
      },
      "execution_count": 57,
      "outputs": [
        {
          "output_type": "execute_result",
          "data": {
            "text/plain": [
              "array([-5.04890207e-09,  6.73186943e-09])"
            ]
          },
          "metadata": {},
          "execution_count": 57
        }
      ]
    },
    {
      "cell_type": "code",
      "source": [
        ""
      ],
      "metadata": {
        "id": "PsRSve_x6LTz"
      },
      "execution_count": null,
      "outputs": []
    },
    {
      "cell_type": "code",
      "source": [
        "def softmax(x):\n",
        "    if x.ndim == 2:\n",
        "        x = x.T\n",
        "        x = x - np.max(x, axis=0)\n",
        "        y = np.exp(x) / np.sum(np.exp(x), axis=0)\n",
        "        return y.T \n",
        "\n",
        "    x = x - np.max(x) # 오버플로 대책\n",
        "    return np.exp(x) / np.sum(np.exp(x))"
      ],
      "metadata": {
        "id": "QlvZFxsf_puf"
      },
      "execution_count": 60,
      "outputs": []
    },
    {
      "cell_type": "code",
      "source": [
        ""
      ],
      "metadata": {
        "id": "5IFxV7Uc5CQ7"
      },
      "execution_count": null,
      "outputs": []
    },
    {
      "cell_type": "code",
      "source": [
        ""
      ],
      "metadata": {
        "id": "AeQKp-XtR--y"
      },
      "execution_count": null,
      "outputs": []
    },
    {
      "cell_type": "markdown",
      "source": [
        "### 신경망과 기울기 "
      ],
      "metadata": {
        "id": "e-jKURK2R_GQ"
      }
    },
    {
      "cell_type": "code",
      "source": [
        "from functions import softmax, cross_entropy_error\n",
        "from gradient import numerical_gradient"
      ],
      "metadata": {
        "id": "zM0adgciN2pc"
      },
      "execution_count": 62,
      "outputs": []
    },
    {
      "cell_type": "code",
      "source": [
        "class SimpleNet:\n",
        "  def __init__(self) :\n",
        "    self.W = np.random.randn(2, 3)\n",
        "\n",
        "  def predict(self, x) :\n",
        "    return np.dot(x, self.W)\n",
        "\n",
        "  def loss(self, x, y) :\n",
        "    p = self.predict(x)\n",
        "    active = softmax(p)\n",
        "    loss = cross_entropy_error(active, y) \n",
        "\n",
        "    return loss\n"
      ],
      "metadata": {
        "id": "l2j3e-K3OAoq"
      },
      "execution_count": 103,
      "outputs": []
    },
    {
      "cell_type": "code",
      "source": [
        "net = SimpleNet()\n",
        "x = np.array([0.6, 0.9])\n",
        "p = net.predict(x)"
      ],
      "metadata": {
        "id": "49-iKYakONL7"
      },
      "execution_count": 104,
      "outputs": []
    },
    {
      "cell_type": "code",
      "source": [
        "p"
      ],
      "metadata": {
        "colab": {
          "base_uri": "https://localhost:8080/"
        },
        "id": "JMT1snwGQalQ",
        "outputId": "99d0a56d-94ac-4451-b6be-01ff95af6ad6"
      },
      "execution_count": 105,
      "outputs": [
        {
          "output_type": "execute_result",
          "data": {
            "text/plain": [
              "array([-0.02395474,  0.94529332, -1.49012425])"
            ]
          },
          "metadata": {},
          "execution_count": 105
        }
      ]
    },
    {
      "cell_type": "code",
      "source": [
        "y = np.array([0, 0, 1])"
      ],
      "metadata": {
        "id": "rbiotzAxQbMq"
      },
      "execution_count": 106,
      "outputs": []
    },
    {
      "cell_type": "code",
      "source": [
        "def f(W) :\n",
        "  return net.loss(x, y)"
      ],
      "metadata": {
        "id": "Oj9wLFowQHwH"
      },
      "execution_count": 107,
      "outputs": []
    },
    {
      "cell_type": "code",
      "source": [
        "f = lambda w : net.loss(x, y)"
      ],
      "metadata": {
        "id": "k44W0WiFRnvX"
      },
      "execution_count": 110,
      "outputs": []
    },
    {
      "cell_type": "code",
      "source": [
        "#  함수를 간편하게 작성할 수 있어서 다른 함수의 인수로 넣을 때 주로 사용\n",
        "grad = numerical_gradient(f, net.W)"
      ],
      "metadata": {
        "id": "Xo9-9aUJONQR"
      },
      "execution_count": 108,
      "outputs": []
    },
    {
      "cell_type": "code",
      "source": [
        "grad"
      ],
      "metadata": {
        "colab": {
          "base_uri": "https://localhost:8080/"
        },
        "id": "xPXJ4drePcyG",
        "outputId": "55d5feae-00c8-4dc9-f61d-6339ffd139c3"
      },
      "execution_count": 109,
      "outputs": [
        {
          "output_type": "execute_result",
          "data": {
            "text/plain": [
              "array([[ 0.15516803,  0.40901696, -0.56418499],\n",
              "       [ 0.23275204,  0.61352545, -0.84627748]])"
            ]
          },
          "metadata": {},
          "execution_count": 109
        }
      ]
    },
    {
      "cell_type": "code",
      "source": [
        ""
      ],
      "metadata": {
        "id": "Iwyz7uR9QTdK"
      },
      "execution_count": null,
      "outputs": []
    }
  ]
}