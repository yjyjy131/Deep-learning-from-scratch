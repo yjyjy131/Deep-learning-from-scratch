{
  "nbformat": 4,
  "nbformat_minor": 0,
  "metadata": {
    "colab": {
      "name": "Regression.ipynb",
      "provenance": []
    },
    "kernelspec": {
      "name": "python3",
      "display_name": "Python 3"
    },
    "language_info": {
      "name": "python"
    }
  },
  "cells": [
    {
      "cell_type": "code",
      "execution_count": 2,
      "metadata": {
        "colab": {
          "base_uri": "https://localhost:8080/"
        },
        "id": "oW1K5ViTaHJt",
        "outputId": "1f4bfeac-5c76-4291-a02a-939c37ada99f"
      },
      "outputs": [
        {
          "output_type": "stream",
          "name": "stdout",
          "text": [
            "Requirement already satisfied: torch in /usr/local/lib/python3.7/dist-packages (1.10.0+cu111)\n",
            "Requirement already satisfied: typing-extensions in /usr/local/lib/python3.7/dist-packages (from torch) (3.10.0.2)\n"
          ]
        }
      ],
      "source": [
        "!pip install torch"
      ]
    },
    {
      "cell_type": "code",
      "source": [
        "import torch"
      ],
      "metadata": {
        "id": "Cbq51r2_aQqI"
      },
      "execution_count": 3,
      "outputs": []
    },
    {
      "cell_type": "markdown",
      "source": [
        "## Simple Linear Regression\n",
        "\n",
        "H(x) = Wx + b"
      ],
      "metadata": {
        "id": "ihpjaBymdmDI"
      }
    },
    {
      "cell_type": "code",
      "source": [
        "x_train = torch.FloatTensor([[1], [2], [3]])\n",
        "y_train = torch.FloatTensor([[2], [4], [6]])\n",
        "\n",
        "# requires_grad = True // 텐서에 대한 기울기를 저장\n",
        "W = torch.zeros(1, requires_grad=True)\n",
        "b = torch.zeros(1, requires_grad=True)\n",
        "\n",
        "optimizer = torch.optim.SGD([W, b], lr=0.01)\n",
        "\n",
        "# 학습 횟수 \n",
        "epochs = 100\n",
        "\n",
        "for epc in range(1, epochs+1) :\n",
        "  a = x_train * W + b\n",
        "  z = torch.mean((a - y_train) ** 2)\n",
        "\n",
        "  optimizer.zero_grad()\n",
        "  z.backward()\n",
        "  optimizer.step()"
      ],
      "metadata": {
        "id": "G0iCoTFWaV4n"
      },
      "execution_count": 14,
      "outputs": []
    },
    {
      "cell_type": "markdown",
      "source": [
        "## Mulitivariate Linear Regression\n",
        "\n",
        "H(x) = w1x1 + w2x2 + w3x3 + b"
      ],
      "metadata": {
        "id": "rUrVMHS4fJAD"
      }
    },
    {
      "cell_type": "code",
      "source": [
        "import torch.nn as nn\n",
        "import torch.nn.functional as F"
      ],
      "metadata": {
        "id": "LMZ3tNvraV9Q"
      },
      "execution_count": 15,
      "outputs": []
    },
    {
      "cell_type": "code",
      "source": [
        "x_train = torch.FloatTensor([[100, 80, 92],[22, 34, 42],[54, 67, 71]])\n",
        "y_train = torch.FloatTensor([[100], [30], [60]])"
      ],
      "metadata": {
        "id": "WMmQIUXcgIUH"
      },
      "execution_count": 16,
      "outputs": []
    },
    {
      "cell_type": "code",
      "source": [
        "class Multivariate_func(nn.Module) :\n",
        "  def __init__(self) :\n",
        "    super().__init__()\n",
        "    # 입출력 차원 설정\n",
        "    self.linear = nn.Linear(3, 1)\n",
        "\n",
        "  # hypothesis 계산\n",
        "  def forward(self, x) :\n",
        "    return self.linear(x)"
      ],
      "metadata": {
        "id": "6wRuCBirg-aZ"
      },
      "execution_count": 22,
      "outputs": []
    },
    {
      "cell_type": "code",
      "source": [
        "# W = torch.zeros((3, 1), requires_grad=True)\n",
        "# b = torch.zeros(1, requires_grad=True)\n",
        "\n",
        "model = Multivariate_func()\n",
        "optimizer = torch.optim.SGD([W, b], lr=1e-5)\n",
        "nb_epochs = 20\n",
        "\n",
        "for epoch in range(nb_epochs) :\n",
        "  hypothesis = model(x_train)\n",
        "  cost = F.mse_loss(hypothesis, y_train)\n",
        "\n",
        "  optimizer.zero_grad()\n",
        "  cost.backward()\n",
        "  optimizer.step()"
      ],
      "metadata": {
        "id": "T0CkRpOTgIVo"
      },
      "execution_count": 25,
      "outputs": []
    }
  ]
}