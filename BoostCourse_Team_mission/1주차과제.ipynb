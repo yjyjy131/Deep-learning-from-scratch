{
  "cells": [
    {
      "cell_type": "markdown",
      "metadata": {
        "id": "view-in-github",
        "colab_type": "text"
      },
      "source": [
        "<a href=\"https://colab.research.google.com/github/yjyjy131/Study_Deep_Learning/blob/main/BoostCourse_Team_mission/1%EC%A3%BC%EC%B0%A8%EA%B3%BC%EC%A0%9C.ipynb\" target=\"_parent\"><img src=\"https://colab.research.google.com/assets/colab-badge.svg\" alt=\"Open In Colab\"/></a>"
      ]
    },
    {
      "cell_type": "markdown",
      "metadata": {
        "id": "cbWcqVQPVtMy"
      },
      "source": [
        "####1번"
      ]
    },
    {
      "cell_type": "code",
      "source": [
        "num_list = [1,5,7,15,16,22,28,29]\n",
        "def get_odd_num(num_list):\n",
        "    arr=[]\n",
        "    for x in num_list:\n",
        "        if x % 2 == 1:\n",
        "            arr.append(x)\n",
        "    return arr\n",
        "​\n",
        "print(get_odd_num(num_list))"
      ],
      "metadata": {
        "id": "Lly_Iie6Hq5M"
      },
      "execution_count": null,
      "outputs": []
    },
    {
      "cell_type": "markdown",
      "metadata": {
        "id": "m1Oh_zoHVx0i"
      },
      "source": [
        "####2번"
      ]
    },
    {
      "cell_type": "code",
      "execution_count": null,
      "metadata": {
        "colab": {
          "base_uri": "https://localhost:8080/"
        },
        "id": "nWuvL5eTVx8E",
        "outputId": "fed74d09-f570-452b-c4bc-4cbccfbdfaa3"
      },
      "outputs": [
        {
          "name": "stdout",
          "output_type": "stream",
          "text": [
            "['where', 'there', 'is', 'a', 'will', 'there', 'is', 'a', 'way']\n"
          ]
        }
      ],
      "source": [
        "sentence = \"way a is there will a is there where\"\n",
        "\n",
        "def reverse_sentence(sentence) :\n",
        "  words = sentence.split(\" \")\n",
        "  return list(reversed(words))\n",
        "\n",
        "print(reverse_sentence(sentence))"
      ]
    },
    {
      "cell_type": "markdown",
      "metadata": {
        "id": "vlT7iSBXVyB3"
      },
      "source": [
        "####3번"
      ]
    },
    {
      "cell_type": "code",
      "execution_count": null,
      "metadata": {
        "colab": {
          "base_uri": "https://localhost:8080/"
        },
        "id": "Q60hsqpqVyIn",
        "outputId": "6d10cfe6-153b-466c-c81c-7735efa7409d"
      },
      "outputs": [
        {
          "name": "stdout",
          "output_type": "stream",
          "text": [
            "1 번, 평균 : 100.0\n",
            "2 번, 평균 : 92.5\n",
            "3 번, 평균 : 57.5\n",
            "4 번, 평균 : 77.5\n",
            "5 번, 평균 : 70.0\n"
          ]
        }
      ],
      "source": [
        "score = [(100, 100), (95, 90), (55, 60), (75, 80), (70, 70)]\n",
        "\n",
        "def get_avg(score) :\n",
        "  for i in range(len(score)) :\n",
        "    avg = ( score[i][0] + score[i][1] ) / 2\n",
        "    print(f'{i+1} 번, 평균 : {avg:.1f}')\n",
        "\n",
        "get_avg(score)"
      ]
    },
    {
      "cell_type": "markdown",
      "metadata": {
        "id": "QEQwSuupVyOx"
      },
      "source": [
        "####4번"
      ]
    },
    {
      "cell_type": "code",
      "execution_count": null,
      "metadata": {
        "colab": {
          "background_save": true
        },
        "id": "jG27K8tMVyU3"
      },
      "outputs": [],
      "source": [
        "dict_first = {'사과':30, '배':15, '감':10, '포도':10}\n",
        "dict_second = {'사과':30,'감':10, '배':15, '귤':25}\n",
        "\n",
        "def merge_dict(dict_first, dict_second) :\n",
        "\n",
        "  for k, v in dict_second :\n",
        "    if k in dict_first :\n",
        "      dict_first[k] += v\n",
        "    \n",
        "  print(dict_first)\n",
        "\n",
        "\n",
        "merge_dict(dict_first, dict_second)\n"
      ]
    }
  ],
  "metadata": {
    "colab": {
      "collapsed_sections": [],
      "name": "1주차과제.ipynb",
      "provenance": [],
      "authorship_tag": "ABX9TyMnM6roTrUfPuT62hZKugrb",
      "include_colab_link": true
    },
    "kernelspec": {
      "display_name": "Python 3",
      "name": "python3"
    },
    "language_info": {
      "name": "python"
    }
  },
  "nbformat": 4,
  "nbformat_minor": 0
}