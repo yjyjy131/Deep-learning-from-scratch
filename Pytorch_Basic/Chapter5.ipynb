{
  "nbformat": 4,
  "nbformat_minor": 0,
  "metadata": {
    "colab": {
      "name": "Chapter5.ipynb",
      "provenance": [],
      "collapsed_sections": [],
      "authorship_tag": "ABX9TyN0sZmx2JSD5yVOi4uwIRtE",
      "include_colab_link": true
    },
    "kernelspec": {
      "name": "python3",
      "display_name": "Python 3"
    },
    "language_info": {
      "name": "python"
    }
  },
  "cells": [
    {
      "cell_type": "markdown",
      "metadata": {
        "id": "view-in-github",
        "colab_type": "text"
      },
      "source": [
        "<a href=\"https://colab.research.google.com/github/yjyjy131/Study_Deep_Learning/blob/main/Pytorch_Basic/Chapter5.ipynb\" target=\"_parent\"><img src=\"https://colab.research.google.com/assets/colab-badge.svg\" alt=\"Open In Colab\"/></a>"
      ]
    },
    {
      "cell_type": "markdown",
      "source": [
        "### Linear Regression"
      ],
      "metadata": {
        "id": "ezwJ32qToIHz"
      }
    },
    {
      "cell_type": "code",
      "execution_count": 1,
      "metadata": {
        "id": "U1sjNhf6oE9Q"
      },
      "outputs": [],
      "source": [
        "import torch\n",
        "import torch.nn as nn\n",
        "from matplotlib import pyplot as plt"
      ]
    },
    {
      "cell_type": "code",
      "source": [
        "# unsqueeze : 1 x 5 사이즈를 5 x 1 사이즈로 변경\n",
        "# rand : 5 x 1 사이즈의 랜덤 값 생성\n",
        "x = torch.FloatTensor(range(5)).unsqueeze(1)\n",
        "y = 2*x + torch.rand(5, 1)"
      ],
      "metadata": {
        "id": "X5Is7nm4oOEE"
      },
      "execution_count": 3,
      "outputs": []
    },
    {
      "cell_type": "code",
      "source": [
        "class LinearRegression(nn.Module) :\n",
        "  def __init__(self) :\n",
        "    # 부모 클래스의 init 함수 가져옴\n",
        "    # nn.Linear(in_features, out_features, bias ... )\n",
        "    super().__init__()\n",
        "    self.fc = nn.Linear(1, 1, bias=True)\n",
        "\n",
        "  def forward(self, x) :\n",
        "    y = self.fc(x)\n",
        "    return y"
      ],
      "metadata": {
        "id": "8qkg_tBboytP"
      },
      "execution_count": 18,
      "outputs": []
    },
    {
      "cell_type": "code",
      "source": [
        "model = LinearRegression()\n",
        "learning_rate = 1e-3\n",
        "loss_func = nn.MSELoss()\n",
        "optimizer = torch.optim.SGD(model.parameters(), lr=learning_rate)"
      ],
      "metadata": {
        "id": "ZhFa3ArKoyvU"
      },
      "execution_count": 19,
      "outputs": []
    },
    {
      "cell_type": "code",
      "source": [
        "loss_stack = []\n",
        "for epoch in range(1000) :\n",
        "  optimizer.zero_grad()\n",
        "\n",
        "  y_hat = model(x)\n",
        "  loss = loss_func(y_hat, y)\n",
        "\n",
        "  loss.backward()\n",
        "  optimizer.step()\n",
        "  loss_stack.append(loss.item())\n",
        "\n",
        "  if epoch % 100 == 0 :\n",
        "    print(f'Epoch {epoch}:{loss.item()}')"
      ],
      "metadata": {
        "colab": {
          "base_uri": "https://localhost:8080/"
        },
        "id": "Getvap3hqBNh",
        "outputId": "88c38cb2-53d4-4ec2-caf3-4e5f7de33ee1"
      },
      "execution_count": 20,
      "outputs": [
        {
          "output_type": "stream",
          "name": "stdout",
          "text": [
            "Epoch 0:57.881187438964844\n",
            "Epoch 100:4.05596399307251\n",
            "Epoch 200:0.4203651547431946\n",
            "Epoch 300:0.16354668140411377\n",
            "Epoch 400:0.13545556366443634\n",
            "Epoch 500:0.1239723339676857\n",
            "Epoch 600:0.1146862655878067\n",
            "Epoch 700:0.10650626569986343\n",
            "Epoch 800:0.09925109148025513\n",
            "Epoch 900:0.09281278401613235\n"
          ]
        }
      ]
    },
    {
      "cell_type": "code",
      "source": [
        "# 예측은 학습이 아니므로, gradient 계산을 비활성화\n",
        "with torch.no_grad():\n",
        "  y_hat = model(x)"
      ],
      "metadata": {
        "id": "I_nA4XnUqBPw"
      },
      "execution_count": 22,
      "outputs": []
    },
    {
      "cell_type": "code",
      "source": [
        ""
      ],
      "metadata": {
        "id": "Odab2BfRrmF7"
      },
      "execution_count": null,
      "outputs": []
    },
    {
      "cell_type": "markdown",
      "source": [
        "### Non-Linear Regression"
      ],
      "metadata": {
        "id": "QicMxt1grjwR"
      }
    },
    {
      "cell_type": "code",
      "source": [
        "import pandas as pd\n",
        "import numpy as np\n",
        "import torch\n",
        "import torch.nn.functional as F\n",
        "from torch import nn, optim\n",
        "import matplotlib.pyplot as plt\n",
        "\n",
        "from torch.utils.data import DataLoader, Dataset\n",
        "from sklearn.model_selection import train_test_split\n",
        "from sklearn.metrics import mean_squared_error"
      ],
      "metadata": {
        "id": "wYeHyfS2qBSL"
      },
      "execution_count": 23,
      "outputs": []
    },
    {
      "cell_type": "code",
      "source": [
        "df = pd.read_csv('./sample_data/california_housing_train.csv', index_col=[0])"
      ],
      "metadata": {
        "id": "rOZxlq0Ermmr"
      },
      "execution_count": 25,
      "outputs": []
    },
    {
      "cell_type": "code",
      "source": [
        "X = df.drop('median_income', axis=1).to_numpy()\n",
        "Y = df['median_income'].to_numpy().reshape((-1, 1))"
      ],
      "metadata": {
        "id": "h4_8o44_rmo8"
      },
      "execution_count": 30,
      "outputs": []
    },
    {
      "cell_type": "code",
      "source": [
        "X_train, X_test, Y_train, Y_test = train_test_split(X, Y, test_size=0.5)"
      ],
      "metadata": {
        "id": "mQ1vwEfbrmrL"
      },
      "execution_count": 31,
      "outputs": []
    },
    {
      "cell_type": "code",
      "source": [
        "class TensorData(Dataset) :\n",
        "  def __init__(self, x_data, y_data):\n",
        "    self.x_data = torch.FloatTensor(x_data)\n",
        "    self.y_data = torch.FloatTensor(y_data)\n",
        "    self.len = self.y_data.shape[0]\n",
        "\n",
        "  def __getitem__(self, index):\n",
        "    return self.x_data[index], self.y_data[index]\n",
        "\n",
        "  def __len__(self):\n",
        "    return self.len"
      ],
      "metadata": {
        "id": "z9Xm0Kp3rcFA"
      },
      "execution_count": 32,
      "outputs": []
    },
    {
      "cell_type": "code",
      "source": [
        "trainsets = TensorData(X_train, Y_train)\n",
        "trainloader = torch.utils.data.DataLoader(trainsets, batch_size=32, shuffle=True)\n",
        "\n",
        "testsets = TensorData(X_test, Y_test)\n",
        "testloader = torch.utils.data.DataLoader(testsets, batch_size=32, shuffle=False)"
      ],
      "metadata": {
        "id": "SOBa1lMktscW"
      },
      "execution_count": 43,
      "outputs": []
    },
    {
      "cell_type": "code",
      "source": [
        ""
      ],
      "metadata": {
        "id": "ZyVugcBcuDb7"
      },
      "execution_count": null,
      "outputs": []
    },
    {
      "cell_type": "code",
      "source": [
        "class Regressor(nn.Module):\n",
        "  # 신경망 선언\n",
        "  def __init__(self) :\n",
        "    super().__init__()\n",
        "    self.fc1 = nn.Linear(7, 50, bias=True)\n",
        "    self.fc2 = nn.Linear(50, 30, bias=True)\n",
        "    self.fc3 = nn.Linear(30, 1, bias=True)\n",
        "    self.dropout = nn.Dropout(0.5)\n",
        "\n",
        "  # 연산 구조\n",
        "  def forward(self, x):\n",
        "    x = F.relu(self.fc1(x))\n",
        "    x = self.dropout(F.relu(self.fc2(x)))\n",
        "    x = F.relu(self.fc3(x))\n",
        "    return x"
      ],
      "metadata": {
        "id": "PlQxycmpuDee"
      },
      "execution_count": 45,
      "outputs": []
    },
    {
      "cell_type": "code",
      "source": [
        "model = Regressor()\n",
        "loss_func = nn.MSELoss()\n",
        "optimizer = optim.Adam(model.parameters(), lr=0.001, weight_decay=1e-7)"
      ],
      "metadata": {
        "id": "_tPzZI1NtseX"
      },
      "execution_count": 46,
      "outputs": []
    },
    {
      "cell_type": "code",
      "source": [
        "loss_ = []\n",
        "n = len(trainloader)\n",
        "\n",
        "# 에포크 반복\n",
        "for epoch in range(400) :\n",
        "  running_loss = 0.0\n",
        "\n",
        "  # 데이터 로더의 배치를 돌면서 학습\n",
        "  for data in trainloader:\n",
        "    inputs, values = data\n",
        "\n",
        "    optimizer.zero_grad()\n",
        "    outputs = model(inputs)\n",
        "    loss = loss_func(outputs, values)\n",
        "    loss.backward()\n",
        "    optimizer.step()\n",
        "\n",
        "    # 학습할때마다 loss 를 더해 한 에포크의 전체 loss 를 계산\n",
        "    running_loss += loss.item()\n",
        "\n",
        "  loss_.append(running_loss/n)"
      ],
      "metadata": {
        "id": "GUxdb1J7w2j_"
      },
      "execution_count": null,
      "outputs": []
    },
    {
      "cell_type": "code",
      "source": [
        ""
      ],
      "metadata": {
        "id": "R4GosCqbw7db"
      },
      "execution_count": null,
      "outputs": []
    },
    {
      "cell_type": "markdown",
      "source": [
        "### Model Evaluation - RMSE"
      ],
      "metadata": {
        "id": "xrX037g8w7mJ"
      }
    },
    {
      "cell_type": "code",
      "source": [
        "def evaluation(dataloader):\n",
        "  pred = torch.tensor([], dtype=torch.float)\n",
        "  actual = torch.tensor([], dtype=torch.float)\n",
        "\n",
        "  with torch.no_grad():\n",
        "    model.eval()\n",
        "\n",
        "    for data in dataloader:\n",
        "      inputs, values = data\n",
        "      outputs = model(inputs)\n",
        "      pred = torch.cat((pred, outputs), 0)\n",
        "      actual = torch.cat((actual, values), 0)\n",
        "\n",
        "  pred = pred.numpy()\n",
        "  actual = actual.numpy()\n",
        "  rmse = np.sqrt(mean_squared_error(pred, actual))\n",
        "\n",
        "  return rmse"
      ],
      "metadata": {
        "id": "OKu7ymZGvZmH"
      },
      "execution_count": 48,
      "outputs": []
    },
    {
      "cell_type": "code",
      "source": [
        "train_rmse = evaluation(trainloader)\n",
        "test_rmse = evaluation(testloader)\n",
        "print(f'train_rmse : {train_rmse}')\n",
        "print(f'train_rmse : {test_rmse}')"
      ],
      "metadata": {
        "colab": {
          "base_uri": "https://localhost:8080/"
        },
        "id": "RsKALDZHxpD0",
        "outputId": "82b952da-737c-40d3-ecb6-ce83a21c2ae0"
      },
      "execution_count": 51,
      "outputs": [
        {
          "output_type": "stream",
          "name": "stdout",
          "text": [
            "train_rmse : 4.298290252685547\n",
            "train_rmse : 4.3555426597595215\n"
          ]
        }
      ]
    },
    {
      "cell_type": "code",
      "source": [
        ""
      ],
      "metadata": {
        "id": "Z4CUNxSGyQzT"
      },
      "execution_count": null,
      "outputs": []
    }
  ]
}