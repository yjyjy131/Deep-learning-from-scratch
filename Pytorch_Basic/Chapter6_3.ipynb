{
  "nbformat": 4,
  "nbformat_minor": 0,
  "metadata": {
    "colab": {
      "name": "Chapter6-3.ipynb",
      "provenance": [],
      "collapsed_sections": [],
      "authorship_tag": "ABX9TyNndearWxcj7+owhmieB2hL",
      "include_colab_link": true
    },
    "kernelspec": {
      "name": "python3",
      "display_name": "Python 3"
    },
    "language_info": {
      "name": "python"
    }
  },
  "cells": [
    {
      "cell_type": "markdown",
      "metadata": {
        "id": "view-in-github",
        "colab_type": "text"
      },
      "source": [
        "<a href=\"https://colab.research.google.com/github/yjyjy131/Study_Deep_Learning/blob/main/Pytorch_Basic/Chapter6_3.ipynb\" target=\"_parent\"><img src=\"https://colab.research.google.com/assets/colab-badge.svg\" alt=\"Open In Colab\"/></a>"
      ]
    },
    {
      "cell_type": "code",
      "source": [
        "import torch\n",
        "import torchvision\n",
        "import torchvision.transforms as transforms\n",
        "from torch.utils.data import DataLoader\n",
        "import torch.nn as nn\n",
        "import torch.nn.functional as F\n",
        "import torch.optim as optim\n",
        "import matplotlib.pyplot as plt"
      ],
      "metadata": {
        "id": "rF8Zo7PHA4dN"
      },
      "execution_count": 1,
      "outputs": []
    },
    {
      "cell_type": "code",
      "execution_count": null,
      "metadata": {
        "id": "DjvPSsNe_O1Z"
      },
      "outputs": [],
      "source": [
        "class ResidualBlock(nn.Module):\n",
        "  def __init__(self, in_channels, out_channels, stride=1):\n",
        "    super(ResidualBlock, self).__init__()\n",
        "    self.stride = stride\n",
        "    self.in_channels = in_channels\n",
        "    self.out_channels = out_channels\n",
        "\n",
        "    self.conv_block = nn.Sequential(\n",
        "        nn.Conv2d(self.in_channels, self.out_channels, kernel_size=3, stride=stride, padding=1, bias=False),\n",
        "        nn.BatchNorm2d(self.out_channels),\n",
        "        nn.ReLU(),\n",
        "        nn.Conv2d(self.out_channels, self.out_channels, kernel_size=3, stride=1, padding=1, bias=False),\n",
        "        nn.BatchNorm2d(self.out_channels)\n",
        "    )\n",
        "\n",
        "    if self.stride != 1 or self.in_channels != self.out_channels:\n",
        "      self.downsample = nn.Sequential(\n",
        "          nn.Conv2d(self.in_channels, self.out_channels, kernel_size=1, stride=stride, bias=False),\n",
        "          nn.BatchNorm2d(self.out_channels)\n",
        "      )\n",
        "  \n",
        "  def forward(self, x):\n",
        "    out = self.conv_block(x)\n",
        "    if self.stride != 1 or self.in_channels != self.out_channels :\n",
        "      x.self.downsample(x)\n",
        "    out.F.relu(x + out)\n",
        "    return out"
      ]
    },
    {
      "cell_type": "code",
      "source": [
        "class ResNet(nn.Module):\n",
        "  def __init__(self, num_blocks, num_classes=10):\n",
        "    super(ResNet, self).__init__()\n",
        "    self.in_channels = 64\n",
        "    self.base = nn.Sequential(\n",
        "        nn.Conv2d(3, 64, kernel_size=3, stride=1, padding=1, bias=False),\n",
        "        nn.BatchNorm2d(64),\n",
        "        nn.ReLU()\n",
        "    )\n",
        "    self.layer1 = self._make_layer(64, num_blocks[0], stride=1)\n",
        "    self.layer2 = self._make_layer(128, num_blocks[1], stride=2)\n",
        "    self.layer3 = self._make_layer(256, num_blocks[2], stride=2)\n",
        "    self.layer4 = self._make_layer(512, num_blocks[3], stride=2)\n",
        "    self.gap = nn.AvgPool2d(4)\n",
        "    self.fc = nn.Linear(512, num_classes)\n",
        "\n",
        "  def _make_layer(self, out_channels, num_blocks, stride):\n",
        "    strides = [stride] + [1] * (num_blocks-1)\n",
        "    layers = []\n",
        "    for stride in strides :\n",
        "      block = ResidualBlock(self.in_channels, out_channels, stride)\n",
        "      layers.append(block)\n",
        "      self.in_channels = out_channels\n",
        "    return nn.Sequential(*layers)\n",
        "\n",
        "  def forward(self, x):\n",
        "    out = self.base(x)\n",
        "    out = self.layer1(out)\n",
        "    out = self.layer2(out)\n",
        "    out = self.layer3(out)\n",
        "    out = self.layer4(out)\n",
        "    out = self.gap(out)\n",
        "    out = self.view(out.size(0), -1)\n",
        "    out = self.fc(out)\n",
        "    return out\n",
        "\n",
        "  def modeltype(model):\n",
        "    if model == 'resnet18':\n",
        "      return ResNet([2, 2, 2, 2])\n",
        "    elif model == 'resnet34':\n",
        "      return ResNet([3, 4, 6, 3])"
      ],
      "metadata": {
        "id": "MAsySz54DobB"
      },
      "execution_count": null,
      "outputs": []
    }
  ]
}